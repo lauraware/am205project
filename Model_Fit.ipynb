{
 "cells": [
  {
   "cell_type": "markdown",
   "metadata": {},
   "source": [
    "# Parameter estimation - Real world data fitting\n",
    "---"
   ]
  },
  {
   "cell_type": "code",
   "execution_count": 1,
   "metadata": {},
   "outputs": [],
   "source": [
    "import numpy as np\n",
    "import pandas as pd\n",
    "import scipy as sp\n",
    "import time\n",
    "pd.set_option('display.max_rows', 999)\n",
    "pd.set_option('display.width', 500)\n",
    "pd.set_option('display.notebook_repr_html', True)\n",
    "import matplotlib\n",
    "import matplotlib.pyplot as plt\n",
    "import seaborn as sns\n",
    "%matplotlib inline"
   ]
  },
  {
   "cell_type": "code",
   "execution_count": 2,
   "metadata": {},
   "outputs": [],
   "source": [
    "from matplotlib import rcParams\n",
    "rcParams[\"font.size\"] = 14\n",
    "rcParams[\"axes.labelsize\"] = \"medium\"\n",
    "rcParams[\"xtick.labelsize\"] = \"medium\"\n",
    "rcParams[\"ytick.labelsize\"] = \"medium\"\n",
    "rcParams[\"legend.fontsize\"] = \"small\""
   ]
  },
  {
   "cell_type": "markdown",
   "metadata": {},
   "source": [
    "### Load and merge data to fit against"
   ]
  },
  {
   "cell_type": "code",
   "execution_count": 3,
   "metadata": {},
   "outputs": [],
   "source": [
    "data = pd.read_csv('data/NCHS_-_Drug_Poisoning_Mortality_by_State__United_States (1).csv')\n",
    "data.columns = [u'Year', u'Sex', u'Age', u'Race', u'State', \n",
    "                u'Deaths', u'Population', u'Crude Death Rate', \n",
    "                u'Standard Error for Crude Rate', u'Low Confidence Limit for Crude Rate', \n",
    "                u'Upper Confidence Limit for Crude Rate', u'Age-adjusted Rate', \n",
    "                u'Standard Error Age-adjusted Rate', \n",
    "                u'Lower Confidence Limit for Age-adjusted rate', \n",
    "                u'Upper Confidence Limit for Age-adjusted Rate', \n",
    "                u'State Crude Rate in Range', u'US Crude Rate', \n",
    "                u'US Age-adjusted Rate']\n",
    "\n",
    "data = data.query('Age== \"All Ages\" & Sex==\"Both Sexes\" & Race==\"All Races-All Origins\" & State!=\"United States\"')\n",
    "\n",
    "data['Deaths'] = data['Deaths'].apply(lambda x: x.replace(',',''))\n",
    "data['Deaths'] = pd.to_numeric(data['Deaths'], errors='coerce')\n",
    "data['Population'] = data['Population'].apply(lambda x: x.replace(',',''))\n",
    "data['Population'] = pd.to_numeric(data['Population'], errors='coerce')\n",
    "data['Age-adjusted Rate'] = data['Age-adjusted Rate']*data['Population']/100000\n",
    "\n",
    "yearly_deaths = data.groupby(['Year'])['Deaths'].sum()"
   ]
  },
  {
   "cell_type": "code",
   "execution_count": 4,
   "metadata": {},
   "outputs": [
    {
     "data": {
      "text/html": [
       "<div>\n",
       "<style scoped>\n",
       "    .dataframe tbody tr th:only-of-type {\n",
       "        vertical-align: middle;\n",
       "    }\n",
       "\n",
       "    .dataframe tbody tr th {\n",
       "        vertical-align: top;\n",
       "    }\n",
       "\n",
       "    .dataframe thead th {\n",
       "        text-align: right;\n",
       "    }\n",
       "</style>\n",
       "<table border=\"1\" class=\"dataframe\">\n",
       "  <thead>\n",
       "    <tr style=\"text-align: right;\">\n",
       "      <th></th>\n",
       "      <th>year</th>\n",
       "      <th>population</th>\n",
       "      <th>prescribed_population</th>\n",
       "      <th>deaths</th>\n",
       "    </tr>\n",
       "  </thead>\n",
       "  <tbody>\n",
       "    <tr>\n",
       "      <th>0</th>\n",
       "      <td>2000</td>\n",
       "      <td>2.822959e+08</td>\n",
       "      <td>4.852353e+07</td>\n",
       "      <td>17415</td>\n",
       "    </tr>\n",
       "    <tr>\n",
       "      <th>1</th>\n",
       "      <td>2001</td>\n",
       "      <td>2.852159e+08</td>\n",
       "      <td>5.083974e+07</td>\n",
       "      <td>19394</td>\n",
       "    </tr>\n",
       "    <tr>\n",
       "      <th>2</th>\n",
       "      <td>2002</td>\n",
       "      <td>2.880190e+08</td>\n",
       "      <td>5.212344e+07</td>\n",
       "      <td>23518</td>\n",
       "    </tr>\n",
       "    <tr>\n",
       "      <th>3</th>\n",
       "      <td>2003</td>\n",
       "      <td>2.907333e+08</td>\n",
       "      <td>5.414101e+07</td>\n",
       "      <td>25785</td>\n",
       "    </tr>\n",
       "    <tr>\n",
       "      <th>4</th>\n",
       "      <td>2004</td>\n",
       "      <td>2.933886e+08</td>\n",
       "      <td>5.688479e+07</td>\n",
       "      <td>27424</td>\n",
       "    </tr>\n",
       "    <tr>\n",
       "      <th>5</th>\n",
       "      <td>2005</td>\n",
       "      <td>2.961149e+08</td>\n",
       "      <td>6.040744e+07</td>\n",
       "      <td>29813</td>\n",
       "    </tr>\n",
       "    <tr>\n",
       "      <th>6</th>\n",
       "      <td>2006</td>\n",
       "      <td>2.989299e+08</td>\n",
       "      <td>6.011813e+07</td>\n",
       "      <td>34425</td>\n",
       "    </tr>\n",
       "    <tr>\n",
       "      <th>7</th>\n",
       "      <td>2007</td>\n",
       "      <td>3.019032e+08</td>\n",
       "      <td>6.365125e+07</td>\n",
       "      <td>36010</td>\n",
       "    </tr>\n",
       "    <tr>\n",
       "      <th>8</th>\n",
       "      <td>2008</td>\n",
       "      <td>3.047180e+08</td>\n",
       "      <td>6.619152e+07</td>\n",
       "      <td>36450</td>\n",
       "    </tr>\n",
       "    <tr>\n",
       "      <th>9</th>\n",
       "      <td>2009</td>\n",
       "      <td>3.073738e+08</td>\n",
       "      <td>6.787837e+07</td>\n",
       "      <td>37004</td>\n",
       "    </tr>\n",
       "    <tr>\n",
       "      <th>10</th>\n",
       "      <td>2010</td>\n",
       "      <td>3.097557e+08</td>\n",
       "      <td>6.986711e+07</td>\n",
       "      <td>38329</td>\n",
       "    </tr>\n",
       "    <tr>\n",
       "      <th>11</th>\n",
       "      <td>2011</td>\n",
       "      <td>3.120192e+08</td>\n",
       "      <td>7.011764e+07</td>\n",
       "      <td>41340</td>\n",
       "    </tr>\n",
       "    <tr>\n",
       "      <th>12</th>\n",
       "      <td>2012</td>\n",
       "      <td>3.142838e+08</td>\n",
       "      <td>7.097575e+07</td>\n",
       "      <td>41502</td>\n",
       "    </tr>\n",
       "    <tr>\n",
       "      <th>13</th>\n",
       "      <td>2013</td>\n",
       "      <td>3.164762e+08</td>\n",
       "      <td>6.865775e+07</td>\n",
       "      <td>43982</td>\n",
       "    </tr>\n",
       "    <tr>\n",
       "      <th>14</th>\n",
       "      <td>2014</td>\n",
       "      <td>3.187893e+08</td>\n",
       "      <td>6.694576e+07</td>\n",
       "      <td>47055</td>\n",
       "    </tr>\n",
       "    <tr>\n",
       "      <th>15</th>\n",
       "      <td>2015</td>\n",
       "      <td>3.210800e+08</td>\n",
       "      <td>6.296736e+07</td>\n",
       "      <td>52404</td>\n",
       "    </tr>\n",
       "  </tbody>\n",
       "</table>\n",
       "</div>"
      ],
      "text/plain": [
       "    year    population  prescribed_population  deaths\n",
       "0   2000  2.822959e+08           4.852353e+07   17415\n",
       "1   2001  2.852159e+08           5.083974e+07   19394\n",
       "2   2002  2.880190e+08           5.212344e+07   23518\n",
       "3   2003  2.907333e+08           5.414101e+07   25785\n",
       "4   2004  2.933886e+08           5.688479e+07   27424\n",
       "5   2005  2.961149e+08           6.040744e+07   29813\n",
       "6   2006  2.989299e+08           6.011813e+07   34425\n",
       "7   2007  3.019032e+08           6.365125e+07   36010\n",
       "8   2008  3.047180e+08           6.619152e+07   36450\n",
       "9   2009  3.073738e+08           6.787837e+07   37004\n",
       "10  2010  3.097557e+08           6.986711e+07   38329\n",
       "11  2011  3.120192e+08           7.011764e+07   41340\n",
       "12  2012  3.142838e+08           7.097575e+07   41502\n",
       "13  2013  3.164762e+08           6.865775e+07   43982\n",
       "14  2014  3.187893e+08           6.694576e+07   47055\n",
       "15  2015  3.210800e+08           6.296736e+07   52404"
      ]
     },
     "execution_count": 4,
     "metadata": {},
     "output_type": "execute_result"
    }
   ],
   "source": [
    "# Load and join opioid timeseries\n",
    "\n",
    "opioids_kenan = pd.read_csv(\"data/opioid_prescriptions_kenan_et_al.csv\")\n",
    "\n",
    "opioids_cdc = pd.read_csv(\"data/opioid_prescriptions_cdc.csv\")\n",
    "opioids_cdc.columns = [\"year\", \"prescriptions\", \"prescription_rate_per_100\"]\n",
    "opioids_cdc = opioids_cdc[[\"year\", \"prescription_rate_per_100\"]]\n",
    "\n",
    "opioids = pd.concat([\n",
    "    opioids_kenan[opioids_kenan.year < 2006],\n",
    "    opioids_cdc]).set_index(\"year\")\n",
    "\n",
    "# merge with pop data\n",
    "pop = pd.read_csv(\"data/census_yearly_population.csv\").set_index(\"year\") * 1000\n",
    "\n",
    "df = opioids.join(pop, how=\"left\")\n",
    "df[\"prescriptions\"] = (df.population / 100) * df.prescription_rate_per_100\n",
    "\n",
    "df[\"prescribed_population\"] = df.prescriptions / 3.6\n",
    "df[\"prescribed_population_percent\"] = (df.prescriptions / 3.6) / df.population\n",
    "\n",
    "# Merge with deaths\n",
    "df = df.join(yearly_deaths).rename(columns={\"Deaths\": \"deaths\"})\n",
    "df[\"opioid_death_rate\"] = df.deaths / df.population\n",
    "\n",
    "df = df.reset_index()[df.reset_index().year != 2016]\n",
    "\n",
    "df.year = df.year.astype(int)\n",
    "\n",
    "df.deaths = df.deaths.astype(int)\n",
    "\n",
    "#print(df[[\"year\", \"population\", \"prescribed_population\", \"deaths\"]].to_latex())\n",
    "#df[[\"year\", \"population\", \"prescribed_population\", \"deaths\"]].to_csv(\"merged_data.csv\", index=False)\n",
    "df[[\"year\", \"population\", \"prescribed_population\", \"deaths\"]]"
   ]
  },
  {
   "cell_type": "markdown",
   "metadata": {},
   "source": [
    "This represents our final time series that we expect our model to mimic."
   ]
  },
  {
   "cell_type": "code",
   "execution_count": 5,
   "metadata": {},
   "outputs": [
    {
     "data": {
      "image/png": "[encoded data removed]",
      "text/plain": [
       "<matplotlib.figure.Figure at 0x11123cfd0>"
      ]
     },
     "metadata": {},
     "output_type": "display_data"
    }
   ],
   "source": [
    "fig, ax = plt.subplots(1, 2, figsize=(12,4))\n",
    "\n",
    "df.plot(\"year\", \"prescriptions\", ax=ax[0], label=\"Est. Opioid Prescriptions\")\n",
    "df.plot(\"year\", \"population\", ax=ax[0], label=\"US Resident Population\")\n",
    "df.plot(\"year\", \"prescribed_population\", ax=ax[0], label=\"Est. Prescribed Population\")\n",
    "ax[0].set_ylabel(\"Number of People\")\n",
    "\n",
    "df.plot(\"year\", \"deaths\", ax=ax[1], label=\"Opioid-related Deaths\")\n",
    "ax[1].set_ylabel(\"Number of People\")\n",
    "\n",
    "plt.suptitle(\"Real-world Data for Demographic and Opioid-Related Phenomena\")\n",
    "\n",
    "plt.tight_layout()"
   ]
  },
  {
   "cell_type": "markdown",
   "metadata": {},
   "source": [
    "Now we can define our initial conditions and our modified model:"
   ]
  },
  {
   "cell_type": "code",
   "execution_count": 6,
   "metadata": {},
   "outputs": [],
   "source": [
    "SPAR0 = [0.81, 0.17, 0.0045, 0.0155]"
   ]
  },
  {
   "cell_type": "code",
   "execution_count": null,
   "metadata": {},
   "outputs": [],
   "source": [
    "def opioid_ours(state, t, epsilon, alpha, beta_1, beta_2, gamma, zeta, delta, mu, mu_star):\n",
    "    \n",
    "    '''\n",
    "    modification 1: nu A is assumed to be 1 - sigma - delta - mu\n",
    "    \n",
    "    modification 2: beta and xi are replaced with beta_1 and beta_2 \n",
    "    \n",
    "    epsilon may also be assumed to be 1 - gamma to simplify parameter space, but is not employed here\n",
    "    \n",
    "    '''\n",
    "    S, P, A, R = state\n",
    "    # System of differential equations\n",
    "    S_prime = -alpha*S - beta_1*S*A - beta_2*S*P + (epsilon)*P + delta*R + mu*(P+R) + mu_star*A\n",
    "    P_prime = alpha*S - (epsilon + gamma + mu)*P\n",
    "    A_prime = gamma*P + beta_1*S*A + beta_2*S*P + R*(1 - delta - mu) - (zeta + mu_star)*A\n",
    "    R_prime = zeta*A - R\n",
    "    \n",
    "    # Return derivatives\n",
    "    return [S_prime, P_prime, A_prime, R_prime]"
   ]
  },
  {
   "cell_type": "markdown",
   "metadata": {},
   "source": [
    "Here is our objective function, with our error formulation:"
   ]
  },
  {
   "cell_type": "code",
   "execution_count": 453,
   "metadata": {},
   "outputs": [],
   "source": [
    "def relative_error(actual, approx):\n",
    "    return np.abs((actual - approx) / actual)\n",
    "\n",
    "def integrated_model(params):\n",
    "    \n",
    "    state0 = SPAR0\n",
    "    t = np.linspace(0, 16, 16)\n",
    "    \n",
    "    alpha, beta_1, beta_2, gamma, zeta, delta, sigma, epsilon = params\n",
    "    \n",
    "    numerical_sol = sp.integrate.odeint(opioid_ours, state0, t,\n",
    "                                        args=(epsilon, alpha, beta_1, beta_2, gamma, zeta, delta, mu, mu_star))\n",
    "\n",
    "    opioid_deaths = numerical_sol[:,2] * (mu_star - mu)    \n",
    "    P = numerical_sol[:,1]\n",
    "    \n",
    "    deaths_error = relative_error(actual[:, 0], opioid_deaths)\n",
    "    prescribed_error = relative_error(actual[:, 1], P)\n",
    "    \n",
    "    # calculate total relative error\n",
    "    return np.sum(deaths_error) + np.sum(prescribed_error)"
   ]
  },
  {
   "cell_type": "markdown",
   "metadata": {},
   "source": [
    "Now we can run our minimzation routine with initial guesses and bounds for the parameters, using a multi-start approach."
   ]
  },
  {
   "cell_type": "code",
   "execution_count": 404,
   "metadata": {},
   "outputs": [],
   "source": [
    "# parameters\n",
    "epsilon = 0.74 # Prescribed to Susceptible rate\n",
    "gamma = 0.26 # rate of addiction among prescribed users\n",
    "gamma = 0.08\n",
    "sigma = 0.7 # natural relapse rate of R \n",
    "mu = 0.00824 # death rate\n",
    "mu_star = 0.023 #0.0235275 what I think it should be\n",
    "delta = 0.6 # R to S rate. 0.1 is default\n",
    "beta_1 = 0.0625 # total addiction rate for Susceptible due to illegal access\n",
    "beta_2 = 0.0625 # total addiction rate for Susceptible due to illegal access\n",
    "alpha = 0.3 # prescription rate. could be 0-1\n",
    "zeta = 0.7 # rate of A entry into rehab. could be 0-1\n",
    "\n",
    "# real world data\n",
    "actual = df[[\"opioid_death_rate\", \"prescribed_population_percent\"]].values\n",
    "\n",
    "# bounds for parameters being optimized\n",
    "bounds_reasonable = [(0, 0.5), (0.0001, 0.5), (0.0001, 0.5), (0.01, 0.6), (0, 1), (0,0.8), (0, 0.8), (0, 0.8)]\n",
    "bounds_zeroone = [(0, 1), (0, 1), (0, 1), (0, 1), (0, 1), (0, 1), (0, 1), (0, 1)]\n",
    "\n",
    "# Bounds we'll use\n",
    "bounds = bounds_reasonable\n",
    "\n",
    "# Try first with known realworld-ish parameters\n",
    "ret = sp.optimize.minimize(integrated_model,\n",
    "                     (alpha, beta_1, beta_2, gamma, zeta, delta, sigma, epsilon),\n",
    "                     bounds=bounds,\n",
    "                     method=\"TNC\",\n",
    "                     options={\"maxiter\": 4000}\n",
    "                     )\n",
    "\n",
    "\n",
    "best_fit = ret\n",
    "\n",
    "# Do multistarts\n",
    "for i in range(10):\n",
    "\n",
    "    #params0 = np.random.rand(8)\n",
    "    params0 = np.array([np.random.uniform(low=bound[0], high=bound[1]) for bound in bounds])\n",
    "\n",
    "    ret = sp.optimize.minimize(integrated_model,\n",
    "                     params0,\n",
    "                     bounds=bounds,\n",
    "                     method=\"TNC\",\n",
    "                     options={\"maxiter\": 4000}\n",
    "                     )\n",
    "    \n",
    "    if ret.fun < best_fit.fun:\n",
    "        best_fit = ret"
   ]
  },
  {
   "cell_type": "code",
   "execution_count": 405,
   "metadata": {},
   "outputs": [
    {
     "data": {
      "text/plain": [
       "     fun: 2.8835227261775063\n",
       "     jac: array([   6.43970282,    3.78296314,  128.27378355,  156.70013145,\n",
       "          0.22702467,   -4.66057561,    0.        ,    1.17557488])\n",
       " message: 'Converged (|f_n-f_(n-1)| ~= 0)'\n",
       "    nfev: 226\n",
       "     nit: 21\n",
       "  status: 1\n",
       " success: True\n",
       "       x: array([  1.10192012e-01,   2.54363424e-01,   1.00000000e-04,\n",
       "         1.00000000e-02,   5.27351734e-01,   8.00000000e-01,\n",
       "         7.97886856e-01,   3.87202182e-01])"
      ]
     },
     "execution_count": 405,
     "metadata": {},
     "output_type": "execute_result"
    }
   ],
   "source": [
    "best_fit"
   ]
  },
  {
   "cell_type": "markdown",
   "metadata": {},
   "source": [
    "We obtain the following parameter results:"
   ]
  },
  {
   "cell_type": "code",
   "execution_count": 412,
   "metadata": {},
   "outputs": [
    {
     "data": {
      "text/html": [
       "<div>\n",
       "<style scoped>\n",
       "    .dataframe tbody tr th:only-of-type {\n",
       "        vertical-align: middle;\n",
       "    }\n",
       "\n",
       "    .dataframe tbody tr th {\n",
       "        vertical-align: top;\n",
       "    }\n",
       "\n",
       "    .dataframe thead th {\n",
       "        text-align: right;\n",
       "    }\n",
       "</style>\n",
       "<table border=\"1\" class=\"dataframe\">\n",
       "  <thead>\n",
       "    <tr style=\"text-align: right;\">\n",
       "      <th></th>\n",
       "      <th>Values</th>\n",
       "    </tr>\n",
       "  </thead>\n",
       "  <tbody>\n",
       "    <tr>\n",
       "      <th>alpha</th>\n",
       "      <td>0.110192</td>\n",
       "    </tr>\n",
       "    <tr>\n",
       "      <th>beta_1</th>\n",
       "      <td>0.254363</td>\n",
       "    </tr>\n",
       "    <tr>\n",
       "      <th>beta_2</th>\n",
       "      <td>0.000100</td>\n",
       "    </tr>\n",
       "    <tr>\n",
       "      <th>gamma</th>\n",
       "      <td>0.010000</td>\n",
       "    </tr>\n",
       "    <tr>\n",
       "      <th>zeta</th>\n",
       "      <td>0.527352</td>\n",
       "    </tr>\n",
       "    <tr>\n",
       "      <th>delta</th>\n",
       "      <td>0.800000</td>\n",
       "    </tr>\n",
       "    <tr>\n",
       "      <th>sigma</th>\n",
       "      <td>0.797887</td>\n",
       "    </tr>\n",
       "    <tr>\n",
       "      <th>epsilon</th>\n",
       "      <td>0.387202</td>\n",
       "    </tr>\n",
       "  </tbody>\n",
       "</table>\n",
       "</div>"
      ],
      "text/plain": [
       "           Values\n",
       "alpha    0.110192\n",
       "beta_1   0.254363\n",
       "beta_2   0.000100\n",
       "gamma    0.010000\n",
       "zeta     0.527352\n",
       "delta    0.800000\n",
       "sigma    0.797887\n",
       "epsilon  0.387202"
      ]
     },
     "execution_count": 412,
     "metadata": {},
     "output_type": "execute_result"
    }
   ],
   "source": [
    "pd.DataFrame(best_fit.x,\n",
    "             index=[\"alpha\", \"beta_1\", \"beta_2\", \"gamma\", \"zeta\", \"delta\", \"sigma\", \"epsilon\"],\n",
    "            columns=[\"Values\"]\n",
    "            )"
   ]
  },
  {
   "cell_type": "markdown",
   "metadata": {},
   "source": [
    "We can now run a simulation with the given parameters and intial conditions:"
   ]
  },
  {
   "cell_type": "code",
   "execution_count": 407,
   "metadata": {
    "collapsed": true
   },
   "outputs": [],
   "source": [
    "t = np.linspace(0, 16, 16)\n",
    "\n",
    "alpha, beta_1, beta_2, gamma, zeta, delta, sigma, epsilon = ret.x\n",
    "\n",
    "numerical_sol = sp.integrate.odeint(opioid_ours, SPAR0, t,\n",
    "                                    args=(epsilon, alpha, beta_1, beta_2, gamma, zeta, delta, mu, mu_star)\n",
    "                                   )\n",
    "\n",
    "S = numerical_sol[:,0]\n",
    "P = numerical_sol[:,1]\n",
    "A = numerical_sol[:,2]\n",
    "R = numerical_sol[:,3]"
   ]
  },
  {
   "cell_type": "code",
   "execution_count": 459,
   "metadata": {},
   "outputs": [
    {
     "data": {
      "image/png": "[encoded data removed]",
      "text/plain": [
       "<matplotlib.figure.Figure at 0x11bc9c4a8>"
      ]
     },
     "metadata": {},
     "output_type": "display_data"
    }
   ],
   "source": [
    "fig, ax = plt.subplots(1, 3, figsize=(12, 4))\n",
    "\n",
    "ax[0].plot(t, (mu_star-mu)*A, label=\"Model\")\n",
    "ax[0].plot(t, df.opioid_death_rate, label = \"Actual\")\n",
    "ax[0].set_ylim(ymin=0)\n",
    "ax[0].set_xlabel(\"Time (years)\")\n",
    "ax[0].set_ylabel(\"Opioid Death Rate\")\n",
    "ax[0].set_title(\"Death Rate Fit\")\n",
    "ax[0].legend()\n",
    "\n",
    "ax[1].plot(t, P, label=\"Model\")\n",
    "ax[1].plot(t, df.prescribed_population_percent, label = \"Actual\")\n",
    "ax[1].set_ylim(ymin=0)\n",
    "ax[1].set_xlabel(\"Time (years)\")\n",
    "ax[1].set_ylabel(\"Prescribed Population Ratio\")\n",
    "ax[1].set_title(\"Prescribed Population Fit\")\n",
    "ax[1].legend()\n",
    "\n",
    "ax[2].plot(t, S, label=\"Susceptible\")\n",
    "ax[2].plot(t, P, label= \"Prescribed\")\n",
    "ax[2].plot(t, A, label= \"Addicted\")\n",
    "ax[2].plot(t, R, label= \"Recovering\")\n",
    "#plt.plot(t, (mu_star-mu)*A, label=\"Deaths\")\n",
    "ax[2].set_title(\"Model Variables\")\n",
    "ax[2].set_xlabel(\"Time (years)\")\n",
    "ax[2].set_ylabel(\"Population Size\")\n",
    "ax[2].legend()\n",
    "\n",
    "plt.tight_layout()"
   ]
  },
  {
   "cell_type": "code",
   "execution_count": null,
   "metadata": {},
   "outputs": [],
   "source": []
  }
 ],
 "metadata": {
  "kernelspec": {
   "display_name": "Python 3",
   "language": "python",
   "name": "python3"
  },
  "language_info": {
   "codemirror_mode": {
    "name": "ipython",
    "version": 3
   },
   "file_extension": ".py",
   "mimetype": "text/x-python",
   "name": "python",
   "nbconvert_exporter": "python",
   "pygments_lexer": "ipython3",
   "version": "3.6.2"
  }
 },
 "nbformat": 4,
 "nbformat_minor": 2
}
