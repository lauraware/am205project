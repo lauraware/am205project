{
 "cells": [
  {
   "cell_type": "markdown",
   "metadata": {},
   "source": [
    "# Undestanding the opioid crisis with a modified epidemic model\n",
    "----"
   ]
  },
  {
   "cell_type": "code",
   "execution_count": 2,
   "metadata": {},
   "outputs": [],
   "source": [
    "import numpy as np\n",
    "import pandas as pd\n",
    "import scipy as sp\n",
    "import time\n",
    "pd.set_option('display.max_rows', 999)\n",
    "pd.set_option('display.width', 500)\n",
    "pd.set_option('display.notebook_repr_html', True)\n",
    "import matplotlib\n",
    "import matplotlib.pyplot as plt\n",
    "import seaborn as sns\n",
    "%matplotlib inline"
   ]
  },
  {
   "cell_type": "markdown",
   "metadata": {},
   "source": [
    "### Import data"
   ]
  },
  {
   "cell_type": "code",
   "execution_count": 10,
   "metadata": {},
   "outputs": [],
   "source": [
    "data = pd.read_csv('NCHS_-_Drug_Poisoning_Mortality_by_State__United_States (1).csv')\n",
    "data.columns = [u'Year', u'Sex', u'Age', u'Race', u'State', \n",
    "                u'Deaths', u'Population', u'Crude Death Rate', \n",
    "                u'Standard Error for Crude Rate', u'Low Confidence Limit for Crude Rate', \n",
    "                u'Upper Confidence Limit for Crude Rate', u'Age-adjusted Rate', \n",
    "                u'Standard Error Age-adjusted Rate', \n",
    "                u'Lower Confidence Limit for Age-adjusted rate', \n",
    "                u'Upper Confidence Limit for Age-adjusted Rate', \n",
    "                u'State Crude Rate in Range', u'US Crude Rate', \n",
    "                u'US Age-adjusted Rate']\n",
    "\n",
    "data = data.query('Age== \"All Ages\" & Sex==\"Both Sexes\" & Race==\"All Races-All Origins\" & State!=\"United States\"')\n",
    "\n",
    "data['Deaths'] = data['Deaths'].apply(lambda x: x.replace(',',''))\n",
    "data['Deaths'] = pd.to_numeric(data['Deaths'], errors='coerce')\n",
    "data['Population'] = data['Population'].apply(lambda x: x.replace(',',''))\n",
    "data['Population'] = pd.to_numeric(data['Population'], errors='coerce')\n",
    "data['Age-adjusted Rate'] = data['Age-adjusted Rate']*data['Population']/100000"
   ]
  },
  {
   "cell_type": "code",
   "execution_count": 17,
   "metadata": {},
   "outputs": [
    {
     "data": {
      "text/plain": [
       "<matplotlib.axes._subplots.AxesSubplot at 0x112b9a860>"
      ]
     },
     "execution_count": 17,
     "metadata": {},
     "output_type": "execute_result"
    },
    {
     "data": {
      "image/png": "[encoded data removed]",
      "text/plain": [
       "<matplotlib.figure.Figure at 0x112b04588>"
      ]
     },
     "metadata": {},
     "output_type": "display_data"
    }
   ],
   "source": [
    "yearly_deaths = data.groupby(['Year'])['Deaths'].sum()\n",
    "yearly_deaths.plot()"
   ]
  },
  {
   "cell_type": "markdown",
   "metadata": {},
   "source": [
    "### The system of equations"
   ]
  },
  {
   "cell_type": "code",
   "execution_count": 3,
   "metadata": {},
   "outputs": [],
   "source": [
    "def opioid(state, t, awareness_effect, epsilon, beta, xi, gamma, zeta, delta, nu, sigma, mu, mu_star):\n",
    "    S, P, A, R, alpha = state\n",
    "    S_prime = -alpha*S - beta*(1-xi)*S*A - beta*xi*S*P + epsilon*P + delta*R + mu*(P+R) + mu_star*A\n",
    "    P_prime = alpha*S - (epsilon + gamma + mu)*P\n",
    "    A_prime = gamma*P + sigma*R + beta*(1-xi)*S*A + beta*xi*S*P + nu*R*A - (zeta + mu_star)*A\n",
    "    R_prime = zeta*A - nu*R*A - (delta + sigma + mu)*R\n",
    "    alpha_prime = awareness_effect * (1-(A + R))\n",
    "    return [S_prime, P_prime, A_prime, R_prime, alpha_prime]"
   ]
  },
  {
   "cell_type": "markdown",
   "metadata": {},
   "source": [
    "### Our parameters"
   ]
  },
  {
   "cell_type": "code",
   "execution_count": 96,
   "metadata": {},
   "outputs": [
    {
     "name": "stdout",
     "output_type": "stream",
     "text": [
      "1.0\n"
     ]
    },
    {
     "data": {
      "text/plain": [
       "0.9999999999999999"
      ]
     },
     "execution_count": 96,
     "metadata": {},
     "output_type": "execute_result"
    }
   ],
   "source": [
    "# parameters\n",
    "epsilon = 0.74 # P to S rate\n",
    "xi = 0.505 #  fraction of beta due to P\n",
    "gamma = 0.26 # rate of addiction among prescribed users\n",
    "nu = 0.2 # relapse rate of R due to A pressure\n",
    "sigma = 0.7 # natural relapse rate of R \n",
    "mu = 0.00824 # death rate\n",
    "mu_star = 0.00834 # death rate of addicts\n",
    "\n",
    "delta = 0.1 # R to S rate. 0.1 is default\n",
    "beta = 0.0625 # total addiction rate for S due to illegal access\n",
    "\n",
    "alpha = 0.5 # prescription rate. could be 0-1\n",
    "zeta = 0.5 # rate of A entry into rehab. could be 0-1\n",
    "\n",
    "# Need to enforce sigma + nu + delta = 1 and epsilon + gamma = 1\n",
    "awareness_effect = 0.001\n",
    "\n",
    "print (epsilon + gamma)\n",
    "sigma + nu + delta"
   ]
  },
  {
   "cell_type": "code",
   "execution_count": 5,
   "metadata": {},
   "outputs": [],
   "source": [
    "state0 = [0.87, 0.1, 0.02, 0.01, 0.2] # S P A R alpha\n",
    "t = np.linspace(0, 75, 1501)"
   ]
  },
  {
   "cell_type": "code",
   "execution_count": 6,
   "metadata": {},
   "outputs": [],
   "source": [
    "numerical_sol = sp.integrate.odeint(opioid, state0, t, args=(awareness_effect, epsilon, beta, xi, gamma, zeta, delta, nu, sigma, mu, mu_star))\n",
    "\n",
    "S = numerical_sol[:,0]\n",
    "P = numerical_sol[:,1]\n",
    "A = numerical_sol[:,2]\n",
    "R = numerical_sol[:,3]\n",
    "alp = numerical_sol[:,4]"
   ]
  },
  {
   "cell_type": "code",
   "execution_count": 7,
   "metadata": {},
   "outputs": [
    {
     "data": {
      "text/plain": [
       "(0, 1)"
      ]
     },
     "execution_count": 7,
     "metadata": {},
     "output_type": "execute_result"
    },
    {
     "data": {
      "image/png": "[encoded data removed]",
      "text/plain": [
       "<matplotlib.figure.Figure at 0x1117919b0>"
      ]
     },
     "metadata": {},
     "output_type": "display_data"
    }
   ],
   "source": [
    "plt.plot(t, S, label=\"Susceptible\")\n",
    "plt.plot(t, P, label=\"Prescribed\")\n",
    "plt.plot(t, A, label=\"Addicted\")\n",
    "plt.plot(t, R, label=\"Rehab\")\n",
    "plt.plot(t, alp, label=\"Alpha\")\n",
    "plt.legend()\n",
    "plt.ylim(0, 1)"
   ]
  },
  {
   "cell_type": "markdown",
   "metadata": {},
   "source": []
  },
  {
   "cell_type": "code",
   "execution_count": 226,
   "metadata": {},
   "outputs": [],
   "source": [
    "def opioid_ours(state, t, alpha, beta_1, beta_2, xi, gamma, zeta, delta, nu, sigma, mu, mu_star):\n",
    "    \n",
    "    '''epsilon was defined to be the prescribed to susceptible rate, but has the\n",
    "    constraint that it is equal to 1 - gamma.\n",
    "    \n",
    "    delta is defined to be the rate of recovery, and is assumed to be 1 - sigma - nu*A\n",
    "    '''\n",
    "    S, P, A, R = state\n",
    "    nu = (1 - sigma - delta - mu)/A\n",
    "    S_prime = -alpha*S - beta_1*S*A - beta_2*S*P + (1-gamma)*P + delta*R + mu*(P+R) + mu_star*A\n",
    "    P_prime = alpha*S - (1 + mu)*P\n",
    "    A_prime = gamma*P + sigma*R + beta_1*S*A + beta_2*S*P + nu*R*A - (zeta + mu_star)*A\n",
    "    R_prime = zeta*A - nu*R*A - (delta + sigma + mu)*R\n",
    "    return [S_prime, P_prime, A_prime, R_prime]"
   ]
  },
  {
   "cell_type": "code",
   "execution_count": 186,
   "metadata": {},
   "outputs": [],
   "source": [
    "# parameters\n",
    "epsilon = 0.74 # Prescribed to Susceptible rate\n",
    "gamma = 0.26 # rate of addiction among prescribed users\n",
    "gamma = 0.08\n",
    "sigma = 0.7 # natural relapse rate of R \n",
    "mu = 0.00824 # death rate\n",
    "mu_star = 0.023 #0.0235275 what I think it should be\n",
    "delta = 0.6 # R to S rate. 0.1 is default\n",
    "beta_1 = 0.0625 # total addiction rate for Susceptible due to illegal access\n",
    "beta_2 = 0.0625 # total addiction rate for Susceptible due to illegal access\n",
    "alpha = 0.3 # prescription rate. could be 0-1\n",
    "zeta = 0.7 # rate of A entry into rehab. could be 0-1"
   ]
  },
  {
   "cell_type": "code",
   "execution_count": 193,
   "metadata": {},
   "outputs": [],
   "source": [
    "def opioid_deaths(t, alpha, beta_1, beta_2, xi, gamma, zeta, delta, nu, sigma, mu, mu_star):\n",
    "    \n",
    "    state0 = [0.87, 0.11, 0.01, 0.01] #S P A R\n",
    "    \n",
    "    numerical_sol = sp.integrate.odeint(opioid_ours, state0, t,\n",
    "                                        args=(alpha, beta_1, beta_2, xi, gamma, zeta, delta, nu, sigma, mu, mu_star))\n",
    "\n",
    "    S = numerical_sol[:,0]\n",
    "    P = numerical_sol[:,1]\n",
    "    A = numerical_sol[:,2]\n",
    "    R = numerical_sol[:,3]\n",
    "    \n",
    "    predicted_deaths = A * (mu_star - mu) * 0.10 # A * (mu_star - mu)\n",
    "    return predicted_deaths"
   ]
  },
  {
   "cell_type": "code",
   "execution_count": 194,
   "metadata": {},
   "outputs": [
    {
     "name": "stderr",
     "output_type": "stream",
     "text": [
      "/Users/makmana/env/lib/python3.6/site-packages/scipy/optimize/minpack.py:785: OptimizeWarning: Covariance of the parameters could not be estimated\n",
      "  category=OptimizeWarning)\n"
     ]
    },
    {
     "data": {
      "text/plain": [
       "array([  1.27776361e+02,   3.69485418e+01,   1.12778245e+02,\n",
       "         1.00000000e+00,   1.40489779e+02,   2.20842861e+01,\n",
       "         4.85603980e+01,   1.00000000e+00,  -3.70973589e+01,\n",
       "         3.35454357e+03,   3.35461607e+03])"
      ]
     },
     "execution_count": 194,
     "metadata": {},
     "output_type": "execute_result"
    }
   ],
   "source": [
    "fitted_params, _ = sp.optimize.curve_fit(opioid_deaths, t, yearly_deaths.values/(320 * 10**6),\n",
    "                                         maxfev=8000)\n",
    "fitted_params"
   ]
  },
  {
   "cell_type": "markdown",
   "metadata": {},
   "source": [
    "https://stackoverflow.com/questions/16541171/how-do-i-put-a-constraint-on-scipy-curve-fit"
   ]
  },
  {
   "cell_type": "code",
   "execution_count": 195,
   "metadata": {},
   "outputs": [
    {
     "data": {
      "text/plain": [
       "[<matplotlib.lines.Line2D at 0x1140410f0>]"
      ]
     },
     "execution_count": 195,
     "metadata": {},
     "output_type": "execute_result"
    },
    {
     "data": {
      "image/png": "[encoded data removed]",
      "text/plain": [
       "<matplotlib.figure.Figure at 0x114041860>"
      ]
     },
     "metadata": {},
     "output_type": "display_data"
    }
   ],
   "source": [
    "plt.plot(t, opioid_deaths(t, *fitted_params))\n",
    "plt.plot(t, yearly_deaths.values /320000000)"
   ]
  },
  {
   "cell_type": "code",
   "execution_count": 228,
   "metadata": {},
   "outputs": [],
   "source": [
    "def opioid_deaths2(t, alpha, beta_1, beta_2, zeta, gamma, mu_star):\n",
    "    \n",
    "    state0 = [0.87, 0.10, 0.02, 0.01] #S P A R\n",
    "    \n",
    "    numerical_sol = sp.integrate.odeint(opioid_ours, state0, t,\n",
    "                                        args=(alpha, beta_1, beta_2, xi, gamma, zeta, delta, nu, sigma, mu, mu_star))\n",
    "\n",
    "    S = numerical_sol[:,0]\n",
    "    P = numerical_sol[:,1]\n",
    "    A = numerical_sol[:,2]\n",
    "    R = numerical_sol[:,3]\n",
    "    \n",
    "    opioid_deaths = A * (mu_star - mu)\n",
    "    \n",
    "    return opioid_deaths"
   ]
  },
  {
   "cell_type": "code",
   "execution_count": 229,
   "metadata": {},
   "outputs": [],
   "source": [
    "t = np.linspace(0, 17, 17)"
   ]
  },
  {
   "cell_type": "code",
   "execution_count": 256,
   "metadata": {},
   "outputs": [
    {
     "data": {
      "text/plain": [
       "array([ 0.154872  ,  0.5913556 ,  0.23111976,  0.5       ,  0.20116958,\n",
       "        0.25747987,  0.29781963,  0.5       ,  0.50000001,  0.47736586,\n",
       "        0.48713438])"
      ]
     },
     "execution_count": 256,
     "metadata": {},
     "output_type": "execute_result"
    }
   ],
   "source": [
    "fitted_params, _ = sp.optimize.curve_fit(opioid_deaths, t, yearly_deaths.values/(320 * 10**6),\n",
    "                                         maxfev=8000,\n",
    "                                         method=\"trf\",\n",
    "                                         bounds=((0,0, 0, 0, 0, 0, 0, 0, 0, 0, 0), (1, 1, 1, 1, 1, 1, 1, 1, 1, 1, 1))\n",
    "                                        )\n",
    "fitted_params"
   ]
  },
  {
   "cell_type": "code",
   "execution_count": 260,
   "metadata": {},
   "outputs": [
    {
     "data": {
      "text/plain": [
       "[<matplotlib.lines.Line2D at 0x11515dd30>]"
      ]
     },
     "execution_count": 260,
     "metadata": {},
     "output_type": "execute_result"
    },
    {
     "data": {
      "image/png": "[encoded data removed]",
      "text/plain": [
       "<matplotlib.figure.Figure at 0x11515d860>"
      ]
     },
     "metadata": {},
     "output_type": "display_data"
    }
   ],
   "source": [
    "plt.plot(t, opioid_deaths(t, *fitted_params))\n",
    "plt.plot(t, yearly_deaths.values /320000000)"
   ]
  },
  {
   "cell_type": "code",
   "execution_count": 288,
   "metadata": {},
   "outputs": [],
   "source": [
    "def opioid_deaths3(t, P, A, R, alpha, beta_1, beta_2, zeta, gamma, mu_star):\n",
    "    \n",
    "    S = 1 - (P + A + R)\n",
    "    state0 = [S, P, A, R] #S P A R\n",
    "    \n",
    "    numerical_sol = sp.integrate.odeint(opioid_ours, state0, t,\n",
    "                                        args=(alpha, beta_1, beta_2, xi, gamma, zeta, delta, nu, sigma, mu, mu_star))\n",
    "\n",
    "    opioid_deaths = numerical_sol[:,2] * (mu_star - mu)\n",
    "    \n",
    "    return opioid_deaths"
   ]
  },
  {
   "cell_type": "code",
   "execution_count": 289,
   "metadata": {},
   "outputs": [
    {
     "data": {
      "text/plain": [
       "array([ 0.00607623,  0.00155636,  0.00234918,  0.03808095,  0.04077651,\n",
       "        0.03761404,  0.96156974,  0.03737352,  0.03535628])"
      ]
     },
     "execution_count": 289,
     "metadata": {},
     "output_type": "execute_result"
    }
   ],
   "source": [
    "fitted_params, _ = sp.optimize.curve_fit(opioid_deaths3, t, yearly_deaths.values/(320 * 10**6),\n",
    "                                         maxfev=8000,\n",
    "                                         method=\"trf\",\n",
    "                                         bounds=(\n",
    "                                         (0, 0, 0, 0, 0, 0, 0, 0, 0),\n",
    "                                         (0.30, 0.05, 0.05, 1, 1, 1, 1, 1, 1)\n",
    "                                         )\n",
    "                                        )\n",
    "fitted_params"
   ]
  },
  {
   "cell_type": "code",
   "execution_count": 290,
   "metadata": {},
   "outputs": [],
   "source": [
    "P, A, R, alpha, beta_1, beta_2, zeta, gamma, mu_star = fitted_params"
   ]
  },
  {
   "cell_type": "code",
   "execution_count": 291,
   "metadata": {},
   "outputs": [],
   "source": [
    "state0 = [1 - (P + A + R), P, A, R]\n",
    "\n",
    "numerical_sol = sp.integrate.odeint(opioid_ours, state0, t,\n",
    "                                    args=(alpha, beta_1, beta_2, xi, gamma, zeta, delta, nu, sigma, mu, mu_star))\n",
    "\n",
    "S = numerical_sol[:,0]\n",
    "P = numerical_sol[:,1]\n",
    "A = numerical_sol[:,2]\n",
    "R = numerical_sol[:,3]"
   ]
  },
  {
   "cell_type": "code",
   "execution_count": 292,
   "metadata": {},
   "outputs": [
    {
     "data": {
      "text/plain": [
       "[<matplotlib.lines.Line2D at 0x115834390>]"
      ]
     },
     "execution_count": 292,
     "metadata": {},
     "output_type": "execute_result"
    },
    {
     "data": {
      "image/png": "[encoded data removed]",
      "text/plain": [
       "<matplotlib.figure.Figure at 0x1158344e0>"
      ]
     },
     "metadata": {},
     "output_type": "display_data"
    }
   ],
   "source": [
    "plt.plot(t, opioid_deaths(t, alpha, beta_1, beta_2, xi, gamma, zeta, delta, nu, sigma, mu, mu_star))\n",
    "plt.plot(t, yearly_deaths.values /320000000)"
   ]
  },
  {
   "cell_type": "code",
   "execution_count": 293,
   "metadata": {},
   "outputs": [
    {
     "data": {
      "text/plain": [
       "<matplotlib.legend.Legend at 0x1159cb400>"
      ]
     },
     "execution_count": 293,
     "metadata": {},
     "output_type": "execute_result"
    },
    {
     "data": {
      "image/png": "[encoded data removed]",
      "text/plain": [
       "<matplotlib.figure.Figure at 0x115904630>"
      ]
     },
     "metadata": {},
     "output_type": "display_data"
    }
   ],
   "source": [
    "plt.plot(t, S, label=\"Susceptible\")\n",
    "plt.plot(t, P, label= \"Prescribed\")\n",
    "plt.plot(t, A, label= \"Addicted\")\n",
    "plt.plot(t, R, label= \"Recovering\")\n",
    "plt.title(\"Solution to the Opioid model over time\")\n",
    "\n",
    "plt.xlabel(\"Time (years)\")\n",
    "plt.ylabel(\"Population Size\")\n",
    "plt.legend()\n",
    "\n"
   ]
  },
  {
   "cell_type": "code",
   "execution_count": null,
   "metadata": {},
   "outputs": [],
   "source": []
  }
 ],
 "metadata": {
  "kernelspec": {
   "display_name": "Python 3",
   "language": "python",
   "name": "python3"
  }
 },
 "nbformat": 4,
 "nbformat_minor": 2
}
