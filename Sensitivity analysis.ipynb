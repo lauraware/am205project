{
 "cells": [
  {
   "cell_type": "markdown",
   "metadata": {},
   "source": [
    "# Sensitivity to parameters\n",
    "----"
   ]
  },
  {
   "cell_type": "markdown",
   "metadata": {},
   "source": [
    "### Imports"
   ]
  },
  {
   "cell_type": "code",
   "execution_count": 1,
   "metadata": {
    "collapsed": false
   },
   "outputs": [],
   "source": [
    "import numpy as np\n",
    "import pandas as pd\n",
    "import scipy as sp\n",
    "import time\n",
    "pd.set_option('display.max_rows', 999)\n",
    "pd.set_option('display.width', 500)\n",
    "pd.set_option('display.notebook_repr_html', True)\n",
    "import matplotlib\n",
    "import matplotlib.pyplot as plt\n",
    "import seaborn as sns\n",
    "from SALib.sample import saltelli\n",
    "from SALib.analyze import sobol\n",
    "from SALib.test_functions import Ishigami\n",
    "%matplotlib inline"
   ]
  },
  {
   "cell_type": "markdown",
   "metadata": {},
   "source": [
    "### The system of equations"
   ]
  },
  {
   "cell_type": "code",
   "execution_count": 2,
   "metadata": {
    "collapsed": false
   },
   "outputs": [],
   "source": [
    "def opioid(state, t, alpha, epsilon, beta, xi, gamma, zeta, delta, nu, sigma, mu, mu_star):\n",
    "    S, P, A, R = state\n",
    "    S_prime = -alpha*S - beta*(1-xi)*S*A - beta*xi*S*P + epsilon*P + delta*R + mu*(P+R) + mu_star*A\n",
    "    P_prime = alpha*S - (epsilon + gamma + mu)*P\n",
    "    A_prime = gamma*P + sigma*R + beta*(1-xi)*S*A + beta*xi*S*P + nu*R*A - (zeta + mu_star)*A\n",
    "    R_prime = zeta*A - nu*R*A - (delta + sigma + mu)*R\n",
    "    return [S_prime, P_prime, A_prime, R_prime]"
   ]
  },
  {
   "cell_type": "markdown",
   "metadata": {},
   "source": [
    "### Our modified version"
   ]
  },
  {
   "cell_type": "code",
   "execution_count": 169,
   "metadata": {
    "collapsed": true
   },
   "outputs": [],
   "source": [
    "def opioid(state, t, alpha, beta_1, beta_2, gamma, zeta, delta, sigma, mu, mu_star):\n",
    "    \n",
    "    '''epsilon was defined to be the prescribed to susceptible rate, but has the\n",
    "    constraint that it is equal to 1 - gamma.\n",
    "    \n",
    "    delta is defined to be the rate of recovery, and is assumed to be 1 - sigma - nu*A\n",
    "    '''\n",
    "    S, P, A, R = state\n",
    "    nu = (1 - sigma - delta)/A\n",
    "    S_prime = -alpha*S - beta_1*S*A - beta_2*S*P + (1-gamma)*P + delta*R + mu*(P+R) + mu_star*A\n",
    "    P_prime = alpha*S - (1 + mu)*P\n",
    "    A_prime = gamma*P + sigma*R + beta_1*S*A + beta_2*S*P + nu*R*A - (zeta + mu_star)*A\n",
    "    R_prime = zeta*A - nu*R*A - (delta + sigma + mu)*R\n",
    "    return [S_prime, P_prime, A_prime, R_prime]"
   ]
  },
  {
   "cell_type": "markdown",
   "metadata": {},
   "source": [
    "### Our best guesses for parameters"
   ]
  },
  {
   "cell_type": "code",
   "execution_count": 170,
   "metadata": {
    "collapsed": false
   },
   "outputs": [],
   "source": [
    "# parameters\n",
    "epsilon = 0.74 # Prescribed to Susceptible rate\n",
    "xi = 0.505 #  fraction of beta due to P\n",
    "gamma = 0.26 # rate of addiction among prescribed users\n",
    "nu = 0.2 # relapse rate of R due to A pressure\n",
    "sigma = 0.7 # natural relapse rate of R \n",
    "mu = 0.00824 # death rate\n",
    "mu_star = 0.00834 # death rate of addicts\n",
    "mu_star = 0.023 #0.0235275 what I think it should be\n",
    "delta = 0.1 # R to S rate. 0.1 is default\n",
    "beta = 0.0625 # total addiction rate for Susceptible due to illegal access\n",
    "alpha = 0.5 # prescription rate. could be 0-1\n",
    "zeta = 0.5 # rate of A entry into rehab. could be 0-1"
   ]
  },
  {
   "cell_type": "markdown",
   "metadata": {},
   "source": [
    "### Define ranges for input parameters"
   ]
  },
  {
   "cell_type": "code",
   "execution_count": 171,
   "metadata": {
    "collapsed": false
   },
   "outputs": [
    {
     "data": {
      "text/plain": [
       "[[0, 1], [0, 1], [0, 1], [0, 1], [0, 1], [0, 1], [0, 1], [0, 1], [0, 1]]"
      ]
     },
     "execution_count": 171,
     "metadata": {},
     "output_type": "execute_result"
    }
   ],
   "source": [
    "[[0,1]]*9"
   ]
  },
  {
   "cell_type": "code",
   "execution_count": 180,
   "metadata": {
    "collapsed": true
   },
   "outputs": [],
   "source": [
    "problem = {\n",
    "  'num_vars': 9,\n",
    "  'names': ['alpha', 'beta_1','beta_2','gamma', 'zeta', 'delta', 'sigma', 'mu', 'mu_star'],\n",
    "  'bounds': [[0, 1], [0, 1], [0, 1], [0, 1], [0, 1], [0, 1], [0, 1], [0.005, 0.01], [0.001, 0.05]]\n",
    "}\n",
    "# Generate samples\n",
    "param_values = saltelli.sample(problem, 1000, calc_second_order=True)\n"
   ]
  },
  {
   "cell_type": "code",
   "execution_count": 181,
   "metadata": {
    "collapsed": false
   },
   "outputs": [
    {
     "data": {
      "text/plain": [
       "(20000, 9)"
      ]
     },
     "execution_count": 181,
     "metadata": {},
     "output_type": "execute_result"
    }
   ],
   "source": [
    "param_values.shape"
   ]
  },
  {
   "cell_type": "markdown",
   "metadata": {},
   "source": [
    "### Function to return final addiction states given input parameter values"
   ]
  },
  {
   "cell_type": "code",
   "execution_count": 182,
   "metadata": {
    "collapsed": false
   },
   "outputs": [],
   "source": [
    "def getFinalAddiction(params):\n",
    "    # times to solve at\n",
    "    t = np.linspace(0, 1000, 10000)\n",
    "    \n",
    "    #if beta*(1-xi)*A>1: \n",
    "    # initial state\n",
    "    state0 = [0.78, 0.2, 0.0015, 0.005]\n",
    "    final_addiction_rate = []\n",
    "    for row in params:\n",
    "        alpha, beta_1,beta_2, gamma, zeta, delta, sigma, mu, mu_star = row\n",
    "        \n",
    "        # solve state, t, \n",
    "        numerical_sol = sp.integrate.odeint(opioid, state0, t, args=(alpha, beta_1, beta_2, gamma, zeta, nu, sigma, mu, mu_star))\n",
    "        A = numerical_sol[:,2]\n",
    "        final_addiction_rate.append(A[-1])\n",
    "    return np.array(final_addiction_rate )"
   ]
  },
  {
   "cell_type": "markdown",
   "metadata": {},
   "source": [
    "### Perform sensitivity analysis - Sensitivity to parameters"
   ]
  },
  {
   "cell_type": "code",
   "execution_count": 183,
   "metadata": {
    "collapsed": false
   },
   "outputs": [],
   "source": [
    "# Run model (example)\n",
    "Y = getFinalAddiction(param_values)\n",
    "\n",
    "# Perform analysis\n",
    "Si = sobol.analyze(problem, Y, print_to_console=False)\n",
    "# Returns a dictionary with keys 'S1', 'S1_conf', 'ST', and 'ST_conf'\n",
    "# (first and total-order indices with bootstrap confidence intervals)"
   ]
  },
  {
   "cell_type": "code",
   "execution_count": 184,
   "metadata": {
    "collapsed": false
   },
   "outputs": [
    {
     "name": "stderr",
     "output_type": "stream",
     "text": [
      "/Users/lw20302/anaconda/lib/python2.7/site-packages/ipykernel/__main__.py:7: FutureWarning: sort(columns=....) is deprecated, use sort_values(by=.....)\n"
     ]
    },
    {
     "data": {
      "text/html": [
       "<div>\n",
       "<table border=\"1\" class=\"dataframe\">\n",
       "  <thead>\n",
       "    <tr style=\"text-align: right;\">\n",
       "      <th></th>\n",
       "      <th>first-order effect</th>\n",
       "      <th>parameter</th>\n",
       "      <th>total-order effect</th>\n",
       "    </tr>\n",
       "  </thead>\n",
       "  <tbody>\n",
       "    <tr>\n",
       "      <th>4</th>\n",
       "      <td>0.838</td>\n",
       "      <td>zeta</td>\n",
       "      <td>0.854</td>\n",
       "    </tr>\n",
       "    <tr>\n",
       "      <th>1</th>\n",
       "      <td>0.070</td>\n",
       "      <td>beta_1</td>\n",
       "      <td>0.100</td>\n",
       "    </tr>\n",
       "    <tr>\n",
       "      <th>3</th>\n",
       "      <td>0.034</td>\n",
       "      <td>gamma</td>\n",
       "      <td>0.048</td>\n",
       "    </tr>\n",
       "    <tr>\n",
       "      <th>0</th>\n",
       "      <td>0.025</td>\n",
       "      <td>alpha</td>\n",
       "      <td>0.037</td>\n",
       "    </tr>\n",
       "    <tr>\n",
       "      <th>8</th>\n",
       "      <td>0.012</td>\n",
       "      <td>mu_star</td>\n",
       "      <td>0.011</td>\n",
       "    </tr>\n",
       "    <tr>\n",
       "      <th>2</th>\n",
       "      <td>0.002</td>\n",
       "      <td>beta_2</td>\n",
       "      <td>0.005</td>\n",
       "    </tr>\n",
       "    <tr>\n",
       "      <th>5</th>\n",
       "      <td>0.000</td>\n",
       "      <td>delta</td>\n",
       "      <td>0.000</td>\n",
       "    </tr>\n",
       "    <tr>\n",
       "      <th>6</th>\n",
       "      <td>0.000</td>\n",
       "      <td>sigma</td>\n",
       "      <td>0.000</td>\n",
       "    </tr>\n",
       "    <tr>\n",
       "      <th>7</th>\n",
       "      <td>-0.000</td>\n",
       "      <td>mu</td>\n",
       "      <td>0.000</td>\n",
       "    </tr>\n",
       "  </tbody>\n",
       "</table>\n",
       "</div>"
      ],
      "text/plain": [
       "   first-order effect parameter  total-order effect\n",
       "4               0.838      zeta               0.854\n",
       "1               0.070    beta_1               0.100\n",
       "3               0.034     gamma               0.048\n",
       "0               0.025     alpha               0.037\n",
       "8               0.012   mu_star               0.011\n",
       "2               0.002    beta_2               0.005\n",
       "5               0.000     delta               0.000\n",
       "6               0.000     sigma               0.000\n",
       "7              -0.000        mu               0.000"
      ]
     },
     "execution_count": 184,
     "metadata": {},
     "output_type": "execute_result"
    }
   ],
   "source": [
    "results = pd.DataFrame({\n",
    "    \"parameter\": ['alpha', 'beta_1', 'beta_2', 'gamma', 'zeta', 'delta', 'sigma', 'mu', 'mu_star'],\n",
    "    \"first-order effect\": Si['S1'].round(3),\n",
    "    \"total-order effect\": Si['ST'].round(3)\n",
    "})\n",
    "#Si['S1']\n",
    "results.sort(columns=\"first-order effect\", ascending=False)"
   ]
  },
  {
   "cell_type": "code",
   "execution_count": 126,
   "metadata": {
    "collapsed": false
   },
   "outputs": [
    {
     "data": {
      "text/plain": [
       "array([ 0.039,  0.031,  0.002,  0.027,  0.793,  0.   ,  0.   , -0.   ,\n",
       "        0.001])"
      ]
     },
     "execution_count": 126,
     "metadata": {},
     "output_type": "execute_result"
    }
   ],
   "source": [
    "results"
   ]
  },
  {
   "cell_type": "code",
   "execution_count": null,
   "metadata": {
    "collapsed": true
   },
   "outputs": [],
   "source": []
  }
 ],
 "metadata": {
  "kernelspec": {
   "display_name": "Python 2",
   "language": "python",
   "name": "python2"
  },
  "language_info": {
   "codemirror_mode": {
    "name": "ipython",
    "version": 2
   },
   "file_extension": ".py",
   "mimetype": "text/x-python",
   "name": "python",
   "nbconvert_exporter": "python",
   "pygments_lexer": "ipython2",
   "version": "2.7.13"
  }
 },
 "nbformat": 4,
 "nbformat_minor": 2
}
