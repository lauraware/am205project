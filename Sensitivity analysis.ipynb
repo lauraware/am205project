{
 "cells": [
  {
   "cell_type": "markdown",
   "metadata": {},
   "source": [
    "# Sensitivity to parameters\n",
    "\n",
    "This notebook contains methods and results for performing sensitivity analysis. This analysis was used to create results and figures for the final paper.\n",
    "\n",
    "----"
   ]
  },
  {
   "cell_type": "markdown",
   "metadata": {},
   "source": [
    "### Imports"
   ]
  },
  {
   "cell_type": "code",
   "execution_count": 162,
   "metadata": {
    "collapsed": false
   },
   "outputs": [],
   "source": [
    "import numpy as np\n",
    "import pandas as pd\n",
    "import scipy as sp\n",
    "import time\n",
    "pd.set_option('display.max_rows', 999)\n",
    "pd.set_option('display.width', 500)\n",
    "pd.set_option('display.notebook_repr_html', True)\n",
    "import matplotlib\n",
    "import matplotlib.pyplot as plt\n",
    "import seaborn as sns\n",
    "from SALib.sample import saltelli\n",
    "from SALib.analyze import sobol\n",
    "from SALib.test_functions import Ishigami\n",
    "%matplotlib inline"
   ]
  },
  {
   "cell_type": "markdown",
   "metadata": {},
   "source": [
    "### The system of equations"
   ]
  },
  {
   "cell_type": "code",
   "execution_count": 163,
   "metadata": {
    "collapsed": false
   },
   "outputs": [],
   "source": [
    "def opioid(state, t, alpha, epsilon, beta, xi, gamma, zeta, delta, nu, sigma, mu, mu_star):\n",
    "    S, P, A, R = state\n",
    "    S_prime = -alpha*S - beta*(1-xi)*S*A - beta*xi*S*P + epsilon*P + delta*R + mu*(P+R) + mu_star*A\n",
    "    P_prime = alpha*S - (epsilon + gamma + mu)*P\n",
    "    A_prime = gamma*P + sigma*R + beta*(1-xi)*S*A + beta*xi*S*P + nu*R*A - (zeta + mu_star)*A\n",
    "    R_prime = zeta*A - nu*R*A - (delta + sigma + mu)*R\n",
    "    return [S_prime, P_prime, A_prime, R_prime]"
   ]
  },
  {
   "cell_type": "markdown",
   "metadata": {},
   "source": [
    "### Our modified version"
   ]
  },
  {
   "cell_type": "code",
   "execution_count": 164,
   "metadata": {
    "collapsed": true
   },
   "outputs": [],
   "source": [
    "def opioid(state, t, epsilon, alpha, beta_1, beta_2, gamma, zeta, delta, mu, mu_star):\n",
    "    \n",
    "    '''\n",
    "    modification 1: nu A is assumed to be 1 - sigma - delta - mu\n",
    "    \n",
    "    modification 2: beta and xi are replaced with beta_1 and beta_2 \n",
    "    \n",
    "    epsilon may also be assumed to be 1 - gamma to simplify parameter space, but is not employed here\n",
    "    \n",
    "    '''\n",
    "    S, P, A, R = state\n",
    "\n",
    "    # System of differential equations\n",
    "    S_prime = -alpha*S - beta_1*S*A - beta_2*S*P + (epsilon)*P + delta*R + mu*(P+R) + mu_star*A\n",
    "    P_prime = alpha*S - (epsilon + gamma + mu)*P\n",
    "    A_prime = gamma*P + beta_1*S*A + beta_2*S*P + R*(1 - delta - mu) - (zeta + mu_star)*A\n",
    "    R_prime = zeta*A - R\n",
    "    \n",
    "    # Return derivatives\n",
    "    return [S_prime, P_prime, A_prime, R_prime]"
   ]
  },
  {
   "cell_type": "markdown",
   "metadata": {},
   "source": [
    "### Our initial parameters"
   ]
  },
  {
   "cell_type": "code",
   "execution_count": 165,
   "metadata": {
    "collapsed": false
   },
   "outputs": [],
   "source": [
    "# parameters\n",
    "epsilon = 0.74 # Prescribed to Susceptible rate\n",
    "mu = 0.00824 # death rate\n",
    "mu_star = 0.00834 # death rate of addicts\n",
    "delta = 0.1 # R to S rate. 0.1 is default\n",
    "gamma = 0.1\n",
    "beta_1 = 0.05\n",
    "beta_2 = 0.1\n",
    "alpha = 0.05 # prescription rate. could be 0-1\n",
    "zeta = 0.5 # rate of A entry into quitting or rehab. could be 0-1\n"
   ]
  },
  {
   "cell_type": "markdown",
   "metadata": {},
   "source": [
    "### Define ranges for input parameters"
   ]
  },
  {
   "cell_type": "code",
   "execution_count": 166,
   "metadata": {
    "collapsed": false
   },
   "outputs": [],
   "source": [
    "problem = {\n",
    "  'num_vars': 9,\n",
    "  'names': ['epsilon','alpha', 'beta_1','beta_2','gamma', 'zeta', 'delta', 'mu', 'mu_star'],\n",
    "  'bounds': [[0,1],[0, 1], [0, 1], [0, 1], [0, 1], [0, 1], [0,1], [0, 0.01], [0, 0.05]]\n",
    "}\n",
    "# Generate samples\n",
    "param_values = saltelli.sample(problem, 1000, calc_second_order=True)\n"
   ]
  },
  {
   "cell_type": "code",
   "execution_count": 167,
   "metadata": {
    "collapsed": false
   },
   "outputs": [
    {
     "data": {
      "text/plain": [
       "(20000, 9)"
      ]
     },
     "execution_count": 167,
     "metadata": {},
     "output_type": "execute_result"
    }
   ],
   "source": [
    "param_values.shape"
   ]
  },
  {
   "cell_type": "markdown",
   "metadata": {},
   "source": [
    "### Functions to return final infected states given input parameter values"
   ]
  },
  {
   "cell_type": "code",
   "execution_count": 168,
   "metadata": {
    "collapsed": false
   },
   "outputs": [],
   "source": [
    "def getFinalAddiction(params):\n",
    "    \n",
    "    '''Returns size of Addiction class after 1000 years'''\n",
    "    # times to solve at\n",
    "    t = np.linspace(0, 1000, 10000) # \"equilibrium\" is defined to be 1000 years\n",
    "    \n",
    "    # initial state\n",
    "    state0 = [0.82, 0.15, 0.02, 0.01]\n",
    "\n",
    "    final_addiction_rate = []\n",
    "    \n",
    "    # loop through each set of sampled parameters, and calculate the solution\n",
    "    for row in params:\n",
    "        epsilon, alpha, beta_1, beta_2, gamma, zeta, delta, mu, mu_star = row\n",
    "        \n",
    "        # solve state, t, \n",
    "        numerical_sol = sp.integrate.odeint(opioid, state0, t, args=(epsilon, alpha, beta_1, beta_2, gamma, zeta, delta, mu, mu_star))\n",
    "        A = numerical_sol[:,2]\n",
    "        R = numerical_sol[:,3]\n",
    "        final_addiction_rate.append(A[-1])\n",
    "        \n",
    "    # return endemic addiction rate\n",
    "    return np.array(final_addiction_rate )\n",
    "\n",
    "def getFinalInfected(params):\n",
    "    '''Returns size of combined Addiction + Recovery classes after 1000 years'''\n",
    "    # times to solve at\n",
    "    t = np.linspace(0, 1000, 10000) # \"equilibrium\" is defined to be 1000 years\n",
    "    \n",
    "    # initial state\n",
    "    state0 = [0.82, 0.15, 0.02, 0.01]\n",
    "\n",
    "    final_addiction_rate = []\n",
    "    \n",
    "    # loop through each set of sampled parameters, and calculate the solution\n",
    "    for row in params:\n",
    "        epsilon, alpha, beta_1, beta_2, gamma, zeta, delta, mu, mu_star = row\n",
    "        \n",
    "        # solve state, t, \n",
    "        numerical_sol = sp.integrate.odeint(opioid, state0, t, args=(epsilon, alpha, beta_1, beta_2, gamma, zeta, delta, mu, mu_star))\n",
    "        A = numerical_sol[:,2]\n",
    "        R = numerical_sol[:,3]\n",
    "        final_addiction_rate.append(A[-1]+R[-1])\n",
    "        \n",
    "    # return endemic addiction rate\n",
    "    return np.array(final_addiction_rate )"
   ]
  },
  {
   "cell_type": "markdown",
   "metadata": {},
   "source": [
    "### Perform sensitivity analysis - Sensitivity of parameters to Size of Addiction Class at Equilibrium"
   ]
  },
  {
   "cell_type": "code",
   "execution_count": 186,
   "metadata": {
    "collapsed": false
   },
   "outputs": [],
   "source": [
    "# Run model (example)\n",
    "Y = getFinalAddiction(param_values)"
   ]
  },
  {
   "cell_type": "code",
   "execution_count": 187,
   "metadata": {
    "collapsed": false
   },
   "outputs": [
    {
     "data": {
      "image/png": "[encoded data removed]",
      "text/plain": [
       "<matplotlib.figure.Figure at 0x117977a90>"
      ]
     },
     "metadata": {},
     "output_type": "display_data"
    }
   ],
   "source": [
    "# take the first n parameters to plot\n",
    "n = 1000\n",
    "zetas = param_values[0:n,5]\n",
    "alphas = param_values[:n,1]\n",
    "beta1s = param_values[:n,2]\n",
    "gammas = param_values[:n,4]\n",
    "deltas = param_values[:n,6]\n",
    "\n",
    "# plot figures to look at scatterplots of addiction and zeta, alapha, beta1, and gamma\n",
    "\n",
    "f, (ax1, ax2, ax3, ax4, ax5) = plt.subplots(1, 5, sharey=True, figsize = (9,1.75))\n",
    "ax1.plot(zetas, Y[0:n], '.')\n",
    "ax1.set_xlabel(\"zeta\")\n",
    "ax2.set_xlabel(\"alpha\")\n",
    "ax3.set_xlabel(\"beta_1\")\n",
    "ax4.set_xlabel(\"gamma\")\n",
    "ax1.set_title('A vs. zeta')\n",
    "ax1.set_ylabel(\"A class at Equilibrium\")\n",
    "ax2.plot(alphas, Y[0:n], '.')\n",
    "ax2.set_title('A vs. alpha')\n",
    "ax3.plot(beta1s, Y[0:n], '.')\n",
    "ax3.set_title('A vs. beta_1')\n",
    "ax4.plot(gammas, Y[0:n], '.')\n",
    "ax4.set_title('A vs. gamma')\n",
    "ax5.plot(deltas, Y[0:n], '.')\n",
    "ax5.set_title('A vs. delta')\n",
    "\n",
    "plt.savefig('sensitivity_scatterplots_.png')"
   ]
  },
  {
   "cell_type": "code",
   "execution_count": 175,
   "metadata": {
    "collapsed": false
   },
   "outputs": [
    {
     "data": {
      "text/plain": [
       "array([[  4.21386719e-01,   7.17773438e-02,   1.71386719e-01,\n",
       "          2.36816406e-01,   8.83789062e-02,   8.82324219e-01,\n",
       "          6.06933594e-01,   1.04980469e-03,   2.23876953e-02],\n",
       "       [  3.58886719e-01,   5.09277344e-01,   1.35253906e-01,\n",
       "          1.44042969e-01,   2.58789062e-02,   5.69824219e-01,\n",
       "          7.94433594e-01,   4.17480469e-03,   5.12695313e-04],\n",
       "       [  8.45214844e-01,   4.05273438e-02,   2.91503906e-01,\n",
       "          5.80566406e-01,   2.58789062e-02,   8.75488281e-01,\n",
       "          9.60449219e-01,   5.56152344e-03,   2.02636719e-03],\n",
       "       [  8.45214844e-01,   3.45214844e-01,   2.91503906e-01,\n",
       "          3.62792969e-01,   2.58789062e-02,   8.75488281e-01,\n",
       "          9.60449219e-01,   5.56152344e-03,   2.02636719e-03],\n",
       "       [  8.45214844e-01,   4.05273438e-02,   2.65136719e-01,\n",
       "          3.62792969e-01,   7.44628906e-01,   7.26074219e-01,\n",
       "          5.75683594e-01,   8.23730469e-03,   4.58251953e-02],\n",
       "       [  2.65136719e-01,   4.05273438e-02,   2.65136719e-01,\n",
       "          3.62792969e-01,   7.44628906e-01,   8.75488281e-01,\n",
       "          5.75683594e-01,   8.23730469e-03,   4.58251953e-02],\n",
       "       [  2.65136719e-01,   4.05273438e-02,   2.65136719e-01,\n",
       "          3.62792969e-01,   7.44628906e-01,   7.26074219e-01,\n",
       "          9.60449219e-01,   8.23730469e-03,   4.58251953e-02],\n",
       "       [  6.73339844e-01,   1.70898438e-02,   1.50878906e-01,\n",
       "          3.14941406e-01,   4.15039062e-02,   8.28613281e-01,\n",
       "          8.19824219e-01,   1.03027344e-03,   2.15576172e-02],\n",
       "       [  7.80761719e-01,   1.70898438e-02,   1.50878906e-01,\n",
       "          3.14941406e-01,   4.15039062e-02,   8.28613281e-01,\n",
       "          8.19824219e-01,   1.03027344e-03,   2.15576172e-02],\n",
       "       [  6.73339844e-01,   1.70898438e-02,   7.49511719e-01,\n",
       "          3.14941406e-01,   4.15039062e-02,   8.28613281e-01,\n",
       "          8.19824219e-01,   1.03027344e-03,   2.15576172e-02]])"
      ]
     },
     "execution_count": 175,
     "metadata": {},
     "output_type": "execute_result"
    }
   ],
   "source": [
    "# Print sets of parameters that led to low states of addicted\n",
    "low_addiction = param_values[Y<0.1][0:10]\n",
    "low_addiction"
   ]
  },
  {
   "cell_type": "code",
   "execution_count": 176,
   "metadata": {
    "collapsed": false
   },
   "outputs": [
    {
     "data": {
      "image/png": "[encoded data removed]",
      "text/plain": [
       "<matplotlib.figure.Figure at 0x115a18950>"
      ]
     },
     "metadata": {},
     "output_type": "display_data"
    }
   ],
   "source": [
    "for i, row in enumerate(param_values[Y<0.2][0:20]):\n",
    "    epsilon, alpha, beta_1, beta_2, gamma, zeta, delta, mu, mu_star = row\n",
    "    \n",
    "    # times to solve at\n",
    "    t = np.linspace(0, 50, 160)\n",
    "    \n",
    "    # initial state\n",
    "    state0 = [0.82, 0.15, 0.02, 0.01]\n",
    "    numerical_sol, output = sp.integrate.odeint(opioid, state0, t, full_output=1,args=(epsilon, alpha, beta_1, beta_2, gamma, zeta, delta, mu, mu_star))\n",
    "    S = numerical_sol[:,0]\n",
    "    P = numerical_sol[:,1]\n",
    "    A = numerical_sol[:,2]\n",
    "    R = numerical_sol[:,3]\n",
    "\n",
    "    plt.plot(t, A, label= \"Zeta = %s\" %round(zeta,2))\n",
    "    plt.title(\"Solution to the Opioid model over time for different parameters\")\n",
    "    plt.xlabel(\"Time (years)\")\n",
    "    plt.ylabel(\"Population Size\")\n",
    "    #plt.legend()\n"
   ]
  },
  {
   "cell_type": "markdown",
   "metadata": {},
   "source": [
    "### Perform Sobol sensitivity analysis"
   ]
  },
  {
   "cell_type": "code",
   "execution_count": 177,
   "metadata": {
    "collapsed": true
   },
   "outputs": [],
   "source": [
    "# Perform analysis\n",
    "Si = sobol.analyze(problem, Y, print_to_console=False)\n",
    "# Returns a dictionary with keys 'S1', 'S1_conf', 'ST', and 'ST_conf'\n",
    "# (first and total-order indices with bootstrap confidence intervals)"
   ]
  },
  {
   "cell_type": "code",
   "execution_count": 178,
   "metadata": {
    "collapsed": false
   },
   "outputs": [
    {
     "data": {
      "text/html": [
       "<div>\n",
       "<table border=\"1\" class=\"dataframe\">\n",
       "  <thead>\n",
       "    <tr style=\"text-align: right;\">\n",
       "      <th></th>\n",
       "      <th>epsilon</th>\n",
       "      <th>alpha</th>\n",
       "      <th>beta_1</th>\n",
       "      <th>beta_2</th>\n",
       "      <th>gamma</th>\n",
       "      <th>zeta</th>\n",
       "      <th>delta</th>\n",
       "      <th>mu</th>\n",
       "      <th>mu_star</th>\n",
       "    </tr>\n",
       "  </thead>\n",
       "  <tbody>\n",
       "    <tr>\n",
       "      <th>epsilon</th>\n",
       "      <td>NaN</td>\n",
       "      <td>0.002</td>\n",
       "      <td>0.005</td>\n",
       "      <td>0.002</td>\n",
       "      <td>0.005</td>\n",
       "      <td>0.006</td>\n",
       "      <td>0.002</td>\n",
       "      <td>0.002</td>\n",
       "      <td>0.002</td>\n",
       "    </tr>\n",
       "    <tr>\n",
       "      <th>alpha</th>\n",
       "      <td>NaN</td>\n",
       "      <td>NaN</td>\n",
       "      <td>0.005</td>\n",
       "      <td>-0.008</td>\n",
       "      <td>-0.002</td>\n",
       "      <td>-0.002</td>\n",
       "      <td>-0.007</td>\n",
       "      <td>-0.008</td>\n",
       "      <td>-0.009</td>\n",
       "    </tr>\n",
       "    <tr>\n",
       "      <th>beta_1</th>\n",
       "      <td>NaN</td>\n",
       "      <td>NaN</td>\n",
       "      <td>NaN</td>\n",
       "      <td>0.017</td>\n",
       "      <td>0.018</td>\n",
       "      <td>0.027</td>\n",
       "      <td>0.020</td>\n",
       "      <td>0.016</td>\n",
       "      <td>0.018</td>\n",
       "    </tr>\n",
       "    <tr>\n",
       "      <th>beta_2</th>\n",
       "      <td>NaN</td>\n",
       "      <td>NaN</td>\n",
       "      <td>NaN</td>\n",
       "      <td>NaN</td>\n",
       "      <td>-0.002</td>\n",
       "      <td>-0.004</td>\n",
       "      <td>-0.003</td>\n",
       "      <td>-0.004</td>\n",
       "      <td>-0.004</td>\n",
       "    </tr>\n",
       "    <tr>\n",
       "      <th>gamma</th>\n",
       "      <td>NaN</td>\n",
       "      <td>NaN</td>\n",
       "      <td>NaN</td>\n",
       "      <td>NaN</td>\n",
       "      <td>NaN</td>\n",
       "      <td>0.007</td>\n",
       "      <td>0.005</td>\n",
       "      <td>0.006</td>\n",
       "      <td>0.007</td>\n",
       "    </tr>\n",
       "    <tr>\n",
       "      <th>zeta</th>\n",
       "      <td>NaN</td>\n",
       "      <td>NaN</td>\n",
       "      <td>NaN</td>\n",
       "      <td>NaN</td>\n",
       "      <td>NaN</td>\n",
       "      <td>NaN</td>\n",
       "      <td>0.007</td>\n",
       "      <td>0.001</td>\n",
       "      <td>-0.001</td>\n",
       "    </tr>\n",
       "    <tr>\n",
       "      <th>delta</th>\n",
       "      <td>NaN</td>\n",
       "      <td>NaN</td>\n",
       "      <td>NaN</td>\n",
       "      <td>NaN</td>\n",
       "      <td>NaN</td>\n",
       "      <td>NaN</td>\n",
       "      <td>NaN</td>\n",
       "      <td>-0.009</td>\n",
       "      <td>-0.009</td>\n",
       "    </tr>\n",
       "    <tr>\n",
       "      <th>mu</th>\n",
       "      <td>NaN</td>\n",
       "      <td>NaN</td>\n",
       "      <td>NaN</td>\n",
       "      <td>NaN</td>\n",
       "      <td>NaN</td>\n",
       "      <td>NaN</td>\n",
       "      <td>NaN</td>\n",
       "      <td>NaN</td>\n",
       "      <td>0.000</td>\n",
       "    </tr>\n",
       "    <tr>\n",
       "      <th>mu_star</th>\n",
       "      <td>NaN</td>\n",
       "      <td>NaN</td>\n",
       "      <td>NaN</td>\n",
       "      <td>NaN</td>\n",
       "      <td>NaN</td>\n",
       "      <td>NaN</td>\n",
       "      <td>NaN</td>\n",
       "      <td>NaN</td>\n",
       "      <td>NaN</td>\n",
       "    </tr>\n",
       "  </tbody>\n",
       "</table>\n",
       "</div>"
      ],
      "text/plain": [
       "         epsilon  alpha  beta_1  beta_2  gamma   zeta  delta     mu  mu_star\n",
       "epsilon      NaN  0.002   0.005   0.002  0.005  0.006  0.002  0.002    0.002\n",
       "alpha        NaN    NaN   0.005  -0.008 -0.002 -0.002 -0.007 -0.008   -0.009\n",
       "beta_1       NaN    NaN     NaN   0.017  0.018  0.027  0.020  0.016    0.018\n",
       "beta_2       NaN    NaN     NaN     NaN -0.002 -0.004 -0.003 -0.004   -0.004\n",
       "gamma        NaN    NaN     NaN     NaN    NaN  0.007  0.005  0.006    0.007\n",
       "zeta         NaN    NaN     NaN     NaN    NaN    NaN  0.007  0.001   -0.001\n",
       "delta        NaN    NaN     NaN     NaN    NaN    NaN    NaN -0.009   -0.009\n",
       "mu           NaN    NaN     NaN     NaN    NaN    NaN    NaN    NaN    0.000\n",
       "mu_star      NaN    NaN     NaN     NaN    NaN    NaN    NaN    NaN      NaN"
      ]
     },
     "execution_count": 178,
     "metadata": {},
     "output_type": "execute_result"
    }
   ],
   "source": [
    "second_order_effects = pd.DataFrame(Si['S2'].round(3))\n",
    "second_order_effects.columns = ['epsilon','alpha', 'beta_1', 'beta_2', 'gamma', 'zeta', 'delta', 'mu', 'mu_star']\n",
    "second_order_effects.index = second_order_effects.columns\n",
    "second_order_effects"
   ]
  },
  {
   "cell_type": "code",
   "execution_count": 179,
   "metadata": {
    "collapsed": false
   },
   "outputs": [
    {
     "name": "stderr",
     "output_type": "stream",
     "text": [
      "/Users/lw20302/anaconda/lib/python2.7/site-packages/ipykernel/__main__.py:7: FutureWarning: sort(columns=....) is deprecated, use sort_values(by=.....)\n"
     ]
    },
    {
     "data": {
      "text/html": [
       "<div>\n",
       "<table border=\"1\" class=\"dataframe\">\n",
       "  <thead>\n",
       "    <tr style=\"text-align: right;\">\n",
       "      <th></th>\n",
       "      <th>first-order effect</th>\n",
       "      <th>parameter</th>\n",
       "      <th>total-order effect</th>\n",
       "    </tr>\n",
       "  </thead>\n",
       "  <tbody>\n",
       "    <tr>\n",
       "      <th>5</th>\n",
       "      <td>0.707</td>\n",
       "      <td>zeta</td>\n",
       "      <td>0.740</td>\n",
       "    </tr>\n",
       "    <tr>\n",
       "      <th>6</th>\n",
       "      <td>0.150</td>\n",
       "      <td>delta</td>\n",
       "      <td>0.164</td>\n",
       "    </tr>\n",
       "    <tr>\n",
       "      <th>4</th>\n",
       "      <td>0.032</td>\n",
       "      <td>gamma</td>\n",
       "      <td>0.048</td>\n",
       "    </tr>\n",
       "    <tr>\n",
       "      <th>2</th>\n",
       "      <td>0.024</td>\n",
       "      <td>beta_1</td>\n",
       "      <td>0.065</td>\n",
       "    </tr>\n",
       "    <tr>\n",
       "      <th>1</th>\n",
       "      <td>0.022</td>\n",
       "      <td>alpha</td>\n",
       "      <td>0.042</td>\n",
       "    </tr>\n",
       "    <tr>\n",
       "      <th>3</th>\n",
       "      <td>0.005</td>\n",
       "      <td>beta_2</td>\n",
       "      <td>0.007</td>\n",
       "    </tr>\n",
       "    <tr>\n",
       "      <th>8</th>\n",
       "      <td>0.004</td>\n",
       "      <td>mu_star</td>\n",
       "      <td>0.006</td>\n",
       "    </tr>\n",
       "    <tr>\n",
       "      <th>7</th>\n",
       "      <td>-0.000</td>\n",
       "      <td>mu</td>\n",
       "      <td>0.000</td>\n",
       "    </tr>\n",
       "    <tr>\n",
       "      <th>0</th>\n",
       "      <td>-0.002</td>\n",
       "      <td>epsilon</td>\n",
       "      <td>0.006</td>\n",
       "    </tr>\n",
       "  </tbody>\n",
       "</table>\n",
       "</div>"
      ],
      "text/plain": [
       "   first-order effect parameter  total-order effect\n",
       "5               0.707      zeta               0.740\n",
       "6               0.150     delta               0.164\n",
       "4               0.032     gamma               0.048\n",
       "2               0.024    beta_1               0.065\n",
       "1               0.022     alpha               0.042\n",
       "3               0.005    beta_2               0.007\n",
       "8               0.004   mu_star               0.006\n",
       "7              -0.000        mu               0.000\n",
       "0              -0.002   epsilon               0.006"
      ]
     },
     "execution_count": 179,
     "metadata": {},
     "output_type": "execute_result"
    }
   ],
   "source": [
    "results = pd.DataFrame({\n",
    "    \"parameter\": ['epsilon','alpha', 'beta_1', 'beta_2', 'gamma', 'zeta', 'delta', 'mu', 'mu_star'],\n",
    "    \"first-order effect\": Si['S1'].round(3),\n",
    "    \"total-order effect\": Si['ST'].round(3)\n",
    "})\n",
    "#Si['S1']\n",
    "results.sort(columns=\"first-order effect\", ascending=False)"
   ]
  },
  {
   "cell_type": "markdown",
   "metadata": {},
   "source": [
    "### Repeat sensitivity analysis with output as Size of A + R at Equilibrium"
   ]
  },
  {
   "cell_type": "code",
   "execution_count": 180,
   "metadata": {
    "collapsed": false
   },
   "outputs": [],
   "source": [
    "# Run model (example)\n",
    "Y = getFinalInfected(param_values)"
   ]
  },
  {
   "cell_type": "code",
   "execution_count": 184,
   "metadata": {
    "collapsed": false
   },
   "outputs": [
    {
     "data": {
      "image/png": "[encoded data removed]",
      "text/plain": [
       "<matplotlib.figure.Figure at 0x117b54950>"
      ]
     },
     "metadata": {},
     "output_type": "display_data"
    }
   ],
   "source": [
    "# take the first n parameters to plot\n",
    "n = 1000\n",
    "zetas = param_values[0:n,5]\n",
    "alphas = param_values[:n,1]\n",
    "beta1s = param_values[:n,2]\n",
    "gammas = param_values[:n,4]\n",
    "deltas = param_values[:n,6]\n",
    "\n",
    "# plot figures to look at scatterplots of addiction and zeta, alapha, beta1, and gamma\n",
    "\n",
    "f, (ax1, ax2, ax3, ax4, ax5) = plt.subplots(1, 5, sharey=True, figsize = (9,1.75))\n",
    "ax1.plot(zetas, Y[0:n], '.')\n",
    "ax1.set_xlabel(\"zeta\")\n",
    "ax2.set_xlabel(\"alpha\")\n",
    "ax3.set_xlabel(\"beta_1\")\n",
    "ax4.set_xlabel(\"gamma\")\n",
    "ax5.set_xlabel(\"delta\")\n",
    "ax1.set_title('A+R vs. zeta')\n",
    "ax1.set_ylabel(\"A+R at Equilibrium\")\n",
    "ax2.plot(alphas, Y[0:n], '.')\n",
    "ax2.set_title('A+R vs. alpha')\n",
    "ax3.plot(beta1s, Y[0:n], '.')\n",
    "ax3.set_title('A+R vs. beta_1')\n",
    "ax4.plot(gammas, Y[0:n], '.')\n",
    "ax4.set_title('A+R vs. gamma')\n",
    "ax5.plot(deltas, Y[0:n], '.')\n",
    "ax5.set_title('A+R vs. delta')\n",
    "\n",
    "plt.savefig('sensitivity_scatterplots_infected.png')"
   ]
  },
  {
   "cell_type": "code",
   "execution_count": 182,
   "metadata": {
    "collapsed": false
   },
   "outputs": [
    {
     "name": "stdout",
     "output_type": "stream",
     "text": [
      "Second Order Effects\n"
     ]
    },
    {
     "data": {
      "text/html": [
       "<div>\n",
       "<table border=\"1\" class=\"dataframe\">\n",
       "  <thead>\n",
       "    <tr style=\"text-align: right;\">\n",
       "      <th></th>\n",
       "      <th>epsilon</th>\n",
       "      <th>alpha</th>\n",
       "      <th>beta_1</th>\n",
       "      <th>beta_2</th>\n",
       "      <th>gamma</th>\n",
       "      <th>zeta</th>\n",
       "      <th>delta</th>\n",
       "      <th>mu</th>\n",
       "      <th>mu_star</th>\n",
       "    </tr>\n",
       "  </thead>\n",
       "  <tbody>\n",
       "    <tr>\n",
       "      <th>epsilon</th>\n",
       "      <td>NaN</td>\n",
       "      <td>0.001</td>\n",
       "      <td>0.008</td>\n",
       "      <td>0.002</td>\n",
       "      <td>0.009</td>\n",
       "      <td>0.008</td>\n",
       "      <td>0.001</td>\n",
       "      <td>0.002</td>\n",
       "      <td>0.002</td>\n",
       "    </tr>\n",
       "    <tr>\n",
       "      <th>alpha</th>\n",
       "      <td>NaN</td>\n",
       "      <td>NaN</td>\n",
       "      <td>0.008</td>\n",
       "      <td>-0.017</td>\n",
       "      <td>-0.004</td>\n",
       "      <td>-0.008</td>\n",
       "      <td>-0.016</td>\n",
       "      <td>-0.018</td>\n",
       "      <td>-0.020</td>\n",
       "    </tr>\n",
       "    <tr>\n",
       "      <th>beta_1</th>\n",
       "      <td>NaN</td>\n",
       "      <td>NaN</td>\n",
       "      <td>NaN</td>\n",
       "      <td>0.022</td>\n",
       "      <td>0.025</td>\n",
       "      <td>0.028</td>\n",
       "      <td>0.032</td>\n",
       "      <td>0.022</td>\n",
       "      <td>0.023</td>\n",
       "    </tr>\n",
       "    <tr>\n",
       "      <th>beta_2</th>\n",
       "      <td>NaN</td>\n",
       "      <td>NaN</td>\n",
       "      <td>NaN</td>\n",
       "      <td>NaN</td>\n",
       "      <td>-0.006</td>\n",
       "      <td>-0.007</td>\n",
       "      <td>-0.008</td>\n",
       "      <td>-0.010</td>\n",
       "      <td>-0.011</td>\n",
       "    </tr>\n",
       "    <tr>\n",
       "      <th>gamma</th>\n",
       "      <td>NaN</td>\n",
       "      <td>NaN</td>\n",
       "      <td>NaN</td>\n",
       "      <td>NaN</td>\n",
       "      <td>NaN</td>\n",
       "      <td>0.021</td>\n",
       "      <td>0.009</td>\n",
       "      <td>0.016</td>\n",
       "      <td>0.016</td>\n",
       "    </tr>\n",
       "    <tr>\n",
       "      <th>zeta</th>\n",
       "      <td>NaN</td>\n",
       "      <td>NaN</td>\n",
       "      <td>NaN</td>\n",
       "      <td>NaN</td>\n",
       "      <td>NaN</td>\n",
       "      <td>NaN</td>\n",
       "      <td>0.039</td>\n",
       "      <td>-0.002</td>\n",
       "      <td>-0.003</td>\n",
       "    </tr>\n",
       "    <tr>\n",
       "      <th>delta</th>\n",
       "      <td>NaN</td>\n",
       "      <td>NaN</td>\n",
       "      <td>NaN</td>\n",
       "      <td>NaN</td>\n",
       "      <td>NaN</td>\n",
       "      <td>NaN</td>\n",
       "      <td>NaN</td>\n",
       "      <td>-0.015</td>\n",
       "      <td>-0.014</td>\n",
       "    </tr>\n",
       "    <tr>\n",
       "      <th>mu</th>\n",
       "      <td>NaN</td>\n",
       "      <td>NaN</td>\n",
       "      <td>NaN</td>\n",
       "      <td>NaN</td>\n",
       "      <td>NaN</td>\n",
       "      <td>NaN</td>\n",
       "      <td>NaN</td>\n",
       "      <td>NaN</td>\n",
       "      <td>-0.000</td>\n",
       "    </tr>\n",
       "    <tr>\n",
       "      <th>mu_star</th>\n",
       "      <td>NaN</td>\n",
       "      <td>NaN</td>\n",
       "      <td>NaN</td>\n",
       "      <td>NaN</td>\n",
       "      <td>NaN</td>\n",
       "      <td>NaN</td>\n",
       "      <td>NaN</td>\n",
       "      <td>NaN</td>\n",
       "      <td>NaN</td>\n",
       "    </tr>\n",
       "  </tbody>\n",
       "</table>\n",
       "</div>"
      ],
      "text/plain": [
       "         epsilon  alpha  beta_1  beta_2  gamma   zeta  delta     mu  mu_star\n",
       "epsilon      NaN  0.001   0.008   0.002  0.009  0.008  0.001  0.002    0.002\n",
       "alpha        NaN    NaN   0.008  -0.017 -0.004 -0.008 -0.016 -0.018   -0.020\n",
       "beta_1       NaN    NaN     NaN   0.022  0.025  0.028  0.032  0.022    0.023\n",
       "beta_2       NaN    NaN     NaN     NaN -0.006 -0.007 -0.008 -0.010   -0.011\n",
       "gamma        NaN    NaN     NaN     NaN    NaN  0.021  0.009  0.016    0.016\n",
       "zeta         NaN    NaN     NaN     NaN    NaN    NaN  0.039 -0.002   -0.003\n",
       "delta        NaN    NaN     NaN     NaN    NaN    NaN    NaN -0.015   -0.014\n",
       "mu           NaN    NaN     NaN     NaN    NaN    NaN    NaN    NaN   -0.000\n",
       "mu_star      NaN    NaN     NaN     NaN    NaN    NaN    NaN    NaN      NaN"
      ]
     },
     "execution_count": 182,
     "metadata": {},
     "output_type": "execute_result"
    }
   ],
   "source": [
    "# Perform analysis\n",
    "Si = sobol.analyze(problem, Y, print_to_console=False)\n",
    "\n",
    "# Returns a dictionary with keys 'S1', 'S1_conf', 'ST', and 'ST_conf'\n",
    "# (first and total-order indices with bootstrap confidence intervals)\n",
    "\n",
    "\n",
    "second_order_effects = pd.DataFrame(Si['S2'].round(3))\n",
    "second_order_effects.columns = ['epsilon','alpha', 'beta_1', 'beta_2', 'gamma', 'zeta', 'delta', 'mu', 'mu_star']\n",
    "second_order_effects.index = second_order_effects.columns\n",
    "print(\"Second Order Effects\")\n",
    "second_order_effects"
   ]
  },
  {
   "cell_type": "code",
   "execution_count": 183,
   "metadata": {
    "collapsed": false
   },
   "outputs": [
    {
     "name": "stderr",
     "output_type": "stream",
     "text": [
      "/Users/lw20302/anaconda/lib/python2.7/site-packages/ipykernel/__main__.py:7: FutureWarning: sort(columns=....) is deprecated, use sort_values(by=.....)\n"
     ]
    },
    {
     "data": {
      "text/html": [
       "<div>\n",
       "<table border=\"1\" class=\"dataframe\">\n",
       "  <thead>\n",
       "    <tr style=\"text-align: right;\">\n",
       "      <th></th>\n",
       "      <th>first-order effect</th>\n",
       "      <th>parameter</th>\n",
       "      <th>total-order effect</th>\n",
       "    </tr>\n",
       "  </thead>\n",
       "  <tbody>\n",
       "    <tr>\n",
       "      <th>6</th>\n",
       "      <td>0.367</td>\n",
       "      <td>delta</td>\n",
       "      <td>0.419</td>\n",
       "    </tr>\n",
       "    <tr>\n",
       "      <th>5</th>\n",
       "      <td>0.273</td>\n",
       "      <td>zeta</td>\n",
       "      <td>0.352</td>\n",
       "    </tr>\n",
       "    <tr>\n",
       "      <th>4</th>\n",
       "      <td>0.074</td>\n",
       "      <td>gamma</td>\n",
       "      <td>0.111</td>\n",
       "    </tr>\n",
       "    <tr>\n",
       "      <th>2</th>\n",
       "      <td>0.058</td>\n",
       "      <td>beta_1</td>\n",
       "      <td>0.130</td>\n",
       "    </tr>\n",
       "    <tr>\n",
       "      <th>1</th>\n",
       "      <td>0.052</td>\n",
       "      <td>alpha</td>\n",
       "      <td>0.101</td>\n",
       "    </tr>\n",
       "    <tr>\n",
       "      <th>3</th>\n",
       "      <td>0.012</td>\n",
       "      <td>beta_2</td>\n",
       "      <td>0.016</td>\n",
       "    </tr>\n",
       "    <tr>\n",
       "      <th>8</th>\n",
       "      <td>0.006</td>\n",
       "      <td>mu_star</td>\n",
       "      <td>0.009</td>\n",
       "    </tr>\n",
       "    <tr>\n",
       "      <th>7</th>\n",
       "      <td>0.000</td>\n",
       "      <td>mu</td>\n",
       "      <td>0.000</td>\n",
       "    </tr>\n",
       "    <tr>\n",
       "      <th>0</th>\n",
       "      <td>-0.003</td>\n",
       "      <td>epsilon</td>\n",
       "      <td>0.013</td>\n",
       "    </tr>\n",
       "  </tbody>\n",
       "</table>\n",
       "</div>"
      ],
      "text/plain": [
       "   first-order effect parameter  total-order effect\n",
       "6               0.367     delta               0.419\n",
       "5               0.273      zeta               0.352\n",
       "4               0.074     gamma               0.111\n",
       "2               0.058    beta_1               0.130\n",
       "1               0.052     alpha               0.101\n",
       "3               0.012    beta_2               0.016\n",
       "8               0.006   mu_star               0.009\n",
       "7               0.000        mu               0.000\n",
       "0              -0.003   epsilon               0.013"
      ]
     },
     "execution_count": 183,
     "metadata": {},
     "output_type": "execute_result"
    }
   ],
   "source": [
    "results = pd.DataFrame({\n",
    "    \"parameter\": ['epsilon','alpha', 'beta_1', 'beta_2', 'gamma', 'zeta', 'delta', 'mu', 'mu_star'],\n",
    "    \"first-order effect\": Si['S1'].round(3),\n",
    "    \"total-order effect\": Si['ST'].round(3)\n",
    "})\n",
    "#Si['S1']\n",
    "results.sort(columns=\"first-order effect\", ascending=False)"
   ]
  },
  {
   "cell_type": "code",
   "execution_count": null,
   "metadata": {
    "collapsed": true
   },
   "outputs": [],
   "source": []
  }
 ],
 "metadata": {
  "kernelspec": {
   "display_name": "Python 2",
   "language": "python",
   "name": "python2"
  },
  "language_info": {
   "codemirror_mode": {
    "name": "ipython",
    "version": 2
   },
   "file_extension": ".py",
   "mimetype": "text/x-python",
   "name": "python",
   "nbconvert_exporter": "python",
   "pygments_lexer": "ipython2",
   "version": "2.7.13"
  }
 },
 "nbformat": 4,
 "nbformat_minor": 2
}
