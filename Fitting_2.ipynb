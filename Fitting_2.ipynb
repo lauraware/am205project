{
 "cells": [
  {
   "cell_type": "markdown",
   "metadata": {},
   "source": [
    "# Undestanding the opioid crisis with a modified epidemic model\n",
    "----"
   ]
  },
  {
   "cell_type": "code",
   "execution_count": 1,
   "metadata": {},
   "outputs": [],
   "source": [
    "import numpy as np\n",
    "import pandas as pd\n",
    "import scipy as sp\n",
    "import time\n",
    "pd.set_option('display.max_rows', 999)\n",
    "pd.set_option('display.width', 500)\n",
    "pd.set_option('display.notebook_repr_html', True)\n",
    "import matplotlib\n",
    "import matplotlib.pyplot as plt\n",
    "import seaborn as sns\n",
    "%matplotlib inline"
   ]
  },
  {
   "cell_type": "markdown",
   "metadata": {},
   "source": [
    "### Import data"
   ]
  },
  {
   "cell_type": "code",
   "execution_count": 2,
   "metadata": {},
   "outputs": [],
   "source": [
    "data = pd.read_csv('NCHS_-_Drug_Poisoning_Mortality_by_State__United_States (1).csv')\n",
    "data.columns = [u'Year', u'Sex', u'Age', u'Race', u'State', \n",
    "                u'Deaths', u'Population', u'Crude Death Rate', \n",
    "                u'Standard Error for Crude Rate', u'Low Confidence Limit for Crude Rate', \n",
    "                u'Upper Confidence Limit for Crude Rate', u'Age-adjusted Rate', \n",
    "                u'Standard Error Age-adjusted Rate', \n",
    "                u'Lower Confidence Limit for Age-adjusted rate', \n",
    "                u'Upper Confidence Limit for Age-adjusted Rate', \n",
    "                u'State Crude Rate in Range', u'US Crude Rate', \n",
    "                u'US Age-adjusted Rate']\n",
    "\n",
    "data = data.query('Age== \"All Ages\" & Sex==\"Both Sexes\" & Race==\"All Races-All Origins\" & State!=\"United States\"')\n",
    "\n",
    "data['Deaths'] = data['Deaths'].apply(lambda x: x.replace(',',''))\n",
    "data['Deaths'] = pd.to_numeric(data['Deaths'], errors='coerce')\n",
    "data['Population'] = data['Population'].apply(lambda x: x.replace(',',''))\n",
    "data['Population'] = pd.to_numeric(data['Population'], errors='coerce')\n",
    "data['Age-adjusted Rate'] = data['Age-adjusted Rate']*data['Population']/100000"
   ]
  },
  {
   "cell_type": "code",
   "execution_count": 180,
   "metadata": {},
   "outputs": [],
   "source": [
    "# Load and join opioid timeseries\n",
    "\n",
    "opioids_kenan = pd.read_csv(\"data/opioid_prescriptions_kenan_et_al.csv\")\n",
    "\n",
    "opioids_cdc = pd.read_csv(\"data/opioid_prescriptions_cdc.csv\")\n",
    "opioids_cdc.columns = [\"year\", \"prescriptions\", \"prescription_rate_per_100\"]\n",
    "opioids_cdc = opioids_cdc[[\"year\", \"prescription_rate_per_100\"]]\n",
    "\n",
    "opioids = pd.concat([\n",
    "    opioids_kenan[opioids_kenan.year < 2006],\n",
    "    opioids_cdc]).set_index(\"year\")\n",
    "\n",
    "# merge with pop data\n",
    "pop = pd.read_csv(\"data/census_yearly_population.csv\").set_index(\"year\") * 1000\n",
    "\n",
    "df = opioids.join(pop, how=\"left\")\n",
    "df[\"prescriptions\"] = (df.population / 100) * df.prescription_rate_per_100\n",
    "\n",
    "df[\"prescribed_population\"] = df.prescriptions / 3.6\n",
    "df[\"prescribed_population_percent\"] = (df.prescriptions / 3.6) / df.population\n",
    "\n",
    "# Merge with deaths\n",
    "df = df.join(yearly_deaths).rename(columns={\"Deaths\": \"deaths\"})\n",
    "df[\"opioid_death_rate\"] = df.deaths / df.population\n",
    "\n",
    "df = df.reset_index()[df.reset_index().year != 2016]\n",
    "\n",
    "df.year = df.year.astype(int)"
   ]
  },
  {
   "cell_type": "code",
   "execution_count": 182,
   "metadata": {},
   "outputs": [
    {
     "data": {
      "text/html": [
       "<div>\n",
       "<style scoped>\n",
       "    .dataframe tbody tr th:only-of-type {\n",
       "        vertical-align: middle;\n",
       "    }\n",
       "\n",
       "    .dataframe tbody tr th {\n",
       "        vertical-align: top;\n",
       "    }\n",
       "\n",
       "    .dataframe thead th {\n",
       "        text-align: right;\n",
       "    }\n",
       "</style>\n",
       "<table border=\"1\" class=\"dataframe\">\n",
       "  <thead>\n",
       "    <tr style=\"text-align: right;\">\n",
       "      <th></th>\n",
       "      <th>year</th>\n",
       "      <th>prescription_rate_per_100</th>\n",
       "      <th>population</th>\n",
       "      <th>prescriptions</th>\n",
       "      <th>prescribed_population</th>\n",
       "      <th>prescribed_population_percent</th>\n",
       "      <th>deaths</th>\n",
       "      <th>opioid_death_rate</th>\n",
       "    </tr>\n",
       "  </thead>\n",
       "  <tbody>\n",
       "    <tr>\n",
       "      <th>0</th>\n",
       "      <td>2000</td>\n",
       "      <td>61.88</td>\n",
       "      <td>2.822959e+08</td>\n",
       "      <td>1.746847e+08</td>\n",
       "      <td>4.852353e+07</td>\n",
       "      <td>0.171889</td>\n",
       "      <td>17415.0</td>\n",
       "      <td>0.000062</td>\n",
       "    </tr>\n",
       "    <tr>\n",
       "      <th>1</th>\n",
       "      <td>2001</td>\n",
       "      <td>64.17</td>\n",
       "      <td>2.852159e+08</td>\n",
       "      <td>1.830231e+08</td>\n",
       "      <td>5.083974e+07</td>\n",
       "      <td>0.178250</td>\n",
       "      <td>19394.0</td>\n",
       "      <td>0.000068</td>\n",
       "    </tr>\n",
       "    <tr>\n",
       "      <th>2</th>\n",
       "      <td>2002</td>\n",
       "      <td>65.15</td>\n",
       "      <td>2.880190e+08</td>\n",
       "      <td>1.876444e+08</td>\n",
       "      <td>5.212344e+07</td>\n",
       "      <td>0.180972</td>\n",
       "      <td>23518.0</td>\n",
       "      <td>0.000082</td>\n",
       "    </tr>\n",
       "    <tr>\n",
       "      <th>3</th>\n",
       "      <td>2003</td>\n",
       "      <td>67.04</td>\n",
       "      <td>2.907333e+08</td>\n",
       "      <td>1.949076e+08</td>\n",
       "      <td>5.414101e+07</td>\n",
       "      <td>0.186222</td>\n",
       "      <td>25785.0</td>\n",
       "      <td>0.000089</td>\n",
       "    </tr>\n",
       "    <tr>\n",
       "      <th>4</th>\n",
       "      <td>2004</td>\n",
       "      <td>69.80</td>\n",
       "      <td>2.933886e+08</td>\n",
       "      <td>2.047852e+08</td>\n",
       "      <td>5.688479e+07</td>\n",
       "      <td>0.193889</td>\n",
       "      <td>27424.0</td>\n",
       "      <td>0.000093</td>\n",
       "    </tr>\n",
       "  </tbody>\n",
       "</table>\n",
       "</div>"
      ],
      "text/plain": [
       "   year  prescription_rate_per_100    population  prescriptions  prescribed_population  prescribed_population_percent   deaths  opioid_death_rate\n",
       "0  2000                      61.88  2.822959e+08   1.746847e+08           4.852353e+07                       0.171889  17415.0           0.000062\n",
       "1  2001                      64.17  2.852159e+08   1.830231e+08           5.083974e+07                       0.178250  19394.0           0.000068\n",
       "2  2002                      65.15  2.880190e+08   1.876444e+08           5.212344e+07                       0.180972  23518.0           0.000082\n",
       "3  2003                      67.04  2.907333e+08   1.949076e+08           5.414101e+07                       0.186222  25785.0           0.000089\n",
       "4  2004                      69.80  2.933886e+08   2.047852e+08           5.688479e+07                       0.193889  27424.0           0.000093"
      ]
     },
     "execution_count": 182,
     "metadata": {},
     "output_type": "execute_result"
    }
   ],
   "source": [
    "df.head()"
   ]
  },
  {
   "cell_type": "code",
   "execution_count": 188,
   "metadata": {},
   "outputs": [
    {
     "data": {
      "text/plain": [
       "<matplotlib.axes._subplots.AxesSubplot at 0x119009b00>"
      ]
     },
     "execution_count": 188,
     "metadata": {},
     "output_type": "execute_result"
    },
    {
     "data": {
      "image/png": "[encoded data removed]",
      "text/plain": [
       "<matplotlib.figure.Figure at 0x118e65668>"
      ]
     },
     "metadata": {},
     "output_type": "display_data"
    }
   ],
   "source": [
    "fig, ax = plt.subplots(1, 2, figsize=(12,4))\n",
    "\n",
    "df.plot(\"year\", \"prescriptions\", ax=ax[0], label=\"Est. Opioid Prescriptions\")\n",
    "df.plot(\"year\", \"population\", ax=ax[0], label=\"US Resident Population\")\n",
    "df.plot(\"year\", \"prescribed_population\", ax=ax[0], label=\"Est. Prescribed Population\")\n",
    "df.plot(\"year\", \"deaths\", ax=ax[1], label=\"Opioid-related Deaths\")"
   ]
  },
  {
   "cell_type": "code",
   "execution_count": 243,
   "metadata": {},
   "outputs": [],
   "source": [
    "def opioid_ours(state, t, alpha, beta_1, beta_2, gamma, zeta, delta, sigma):\n",
    "    S, P, A, R = state\n",
    "    nu = (1 - sigma - delta - mu)/A\n",
    "    S_prime = -alpha*S - beta_1*S*A - beta_2*S*P + (1-gamma)*P + delta*R + mu*(P+R) + mu_star*A\n",
    "    P_prime = alpha*S - (1 + mu)*P\n",
    "    A_prime = gamma*P + sigma*R + beta_1*S*A + beta_2*S*P + nu*R*A - (zeta + mu_star)*A\n",
    "    R_prime = zeta*A - nu*R*A - (delta + sigma + mu)*R\n",
    "    return [S_prime, P_prime, A_prime, R_prime]"
   ]
  },
  {
   "cell_type": "code",
   "execution_count": 272,
   "metadata": {},
   "outputs": [],
   "source": [
    "def integrated_model(params):\n",
    "    \n",
    "    state0 = [0.87, 0.10, 0.02, 0.01]\n",
    "    t = np.linspace(0, 16, 16)\n",
    "    \n",
    "    alpha, beta_1, beta_2, gamma, zeta, delta, sigma = params\n",
    "    \n",
    "    numerical_sol = sp.integrate.odeint(opioid_ours, state0, t,\n",
    "                                        args=(alpha, beta_1, beta_2, gamma, zeta, delta, sigma))\n",
    "\n",
    "    opioid_deaths = numerical_sol[:,2] * (mu_star - mu)\n",
    "    P = numerical_sol[:,1]\n",
    "    \n",
    "    # calculate error\n",
    "    abs_errors = np.abs(actual - np.vstack([opioid_deaths, P]).T)\n",
    "    \n",
    "    # Weight the values to put them on the same scale\n",
    "    abs_errors[:, 0] = abs_errors[:, 0] * 100\n",
    "    \n",
    "    return np.sum(abs_errors)"
   ]
  },
  {
   "cell_type": "code",
   "execution_count": 273,
   "metadata": {},
   "outputs": [
    {
     "data": {
      "text/plain": [
       "0.38276230502391029"
      ]
     },
     "execution_count": 273,
     "metadata": {},
     "output_type": "execute_result"
    }
   ],
   "source": [
    "integrated_model([alpha, beta_1, beta_2, gamma, zeta, delta, sigma])"
   ]
  },
  {
   "cell_type": "code",
   "execution_count": 281,
   "metadata": {
    "scrolled": false
   },
   "outputs": [
    {
     "data": {
      "text/plain": [
       "     fun: 0.30022088950968917\n",
       "     jac: array([  4.38165132e-01,   2.12691198e-02,   5.78103521e-01,\n",
       "         7.40674655e-01,  -2.20346130e-02,  -2.67238287e-02,\n",
       "         5.55111512e-08])\n",
       " message: 'Converged (|f_n-f_(n-1)| ~= 0)'\n",
       "    nfev: 250\n",
       "     nit: 15\n",
       "  status: 1\n",
       " success: True\n",
       "       x: array([ 0.27526747,  0.07789748,  0.01587287,  0.00962013,  1.        ,\n",
       "        0.60651193,  0.69727628])"
      ]
     },
     "execution_count": 281,
     "metadata": {},
     "output_type": "execute_result"
    }
   ],
   "source": [
    "# parameters\n",
    "epsilon = 0.74 # Prescribed to Susceptible rate\n",
    "gamma = 0.26 # rate of addiction among prescribed users\n",
    "gamma = 0.08\n",
    "sigma = 0.7 # natural relapse rate of R \n",
    "mu = 0.00824 # death rate\n",
    "mu_star = 0.023 #0.0235275 what I think it should be\n",
    "delta = 0.6 # R to S rate. 0.1 is default\n",
    "beta_1 = 0.0625 # total addiction rate for Susceptible due to illegal access\n",
    "beta_2 = 0.0625 # total addiction rate for Susceptible due to illegal access\n",
    "alpha = 0.3 # prescription rate. could be 0-1\n",
    "zeta = 0.7 # rate of A entry into rehab. could be 0-1\n",
    "\n",
    "# real world data\n",
    "actual = df[[\"opioid_death_rate\", \"prescribed_population_percent\"]].values\n",
    "\n",
    "\n",
    "params0 = (alpha, beta_1, beta_2, gamma, zeta, delta, sigma)\n",
    "\n",
    "ret = sp.optimize.minimize(integrated_model,\n",
    "                     params0,\n",
    "                     bounds=[(0,1), (0, 1), (0, 1), (0,1), (0, 1), (0,1), (0,1)],\n",
    "                    method=\"TNC\",\n",
    "                     options={\"maxiter\": 2000}\n",
    "                     )\n",
    "\n",
    "ret"
   ]
  },
  {
   "cell_type": "code",
   "execution_count": 282,
   "metadata": {},
   "outputs": [
    {
     "data": {
      "text/plain": [
       "array([ 0.27526747,  0.07789748,  0.01587287,  0.00962013,  1.        ,\n",
       "        0.60651193,  0.69727628])"
      ]
     },
     "execution_count": 282,
     "metadata": {},
     "output_type": "execute_result"
    }
   ],
   "source": [
    "ret.x"
   ]
  },
  {
   "cell_type": "code",
   "execution_count": 283,
   "metadata": {},
   "outputs": [],
   "source": [
    "state0 = [0.87, 0.10, 0.02, 0.01]\n",
    "\n",
    "alpha, beta_1, beta_2, gamma, zeta, delta, sigma = ret.x\n",
    "\n",
    "numerical_sol = sp.integrate.odeint(opioid_ours, state0, t,\n",
    "                                    args=(alpha, beta_1, beta_2, gamma, zeta, delta, sigma)\n",
    "                                   )\n",
    "\n",
    "S = numerical_sol[:,0]\n",
    "P = numerical_sol[:,1]\n",
    "A = numerical_sol[:,2]\n",
    "R = numerical_sol[:,3]"
   ]
  },
  {
   "cell_type": "code",
   "execution_count": 284,
   "metadata": {},
   "outputs": [
    {
     "data": {
      "text/plain": [
       "<matplotlib.legend.Legend at 0x119b89588>"
      ]
     },
     "execution_count": 284,
     "metadata": {},
     "output_type": "execute_result"
    },
    {
     "data": {
      "image/png": "[encoded data removed]",
      "text/plain": [
       "<matplotlib.figure.Figure at 0x1197bfb38>"
      ]
     },
     "metadata": {},
     "output_type": "display_data"
    }
   ],
   "source": [
    "plt.plot(t, (mu_star-mu)*A, label=\"Deaths\")\n",
    "plt.plot(t, df.opioid_death_rate, label = \"actual\")\n",
    "plt.legend()"
   ]
  },
  {
   "cell_type": "code",
   "execution_count": 285,
   "metadata": {},
   "outputs": [
    {
     "data": {
      "text/plain": [
       "<matplotlib.legend.Legend at 0x119bf5da0>"
      ]
     },
     "execution_count": 285,
     "metadata": {},
     "output_type": "execute_result"
    },
    {
     "data": {
      "image/png": "[encoded data removed]",
      "text/plain": [
       "<matplotlib.figure.Figure at 0x119b99390>"
      ]
     },
     "metadata": {},
     "output_type": "display_data"
    }
   ],
   "source": [
    "plt.plot(t, P, label=\"Prescribed Population\")\n",
    "plt.plot(t, df.prescribed_population_percent, label = \"actual\")\n",
    "plt.legend()"
   ]
  },
  {
   "cell_type": "code",
   "execution_count": 280,
   "metadata": {},
   "outputs": [
    {
     "data": {
      "text/plain": [
       "<matplotlib.legend.Legend at 0x118981160>"
      ]
     },
     "execution_count": 280,
     "metadata": {},
     "output_type": "execute_result"
    },
    {
     "data": {
      "image/png": "[encoded data removed]",
      "text/plain": [
       "<matplotlib.figure.Figure at 0x11988aba8>"
      ]
     },
     "metadata": {},
     "output_type": "display_data"
    }
   ],
   "source": [
    "plt.plot(t, S, label=\"Susceptible\")\n",
    "plt.plot(t, P, label= \"Prescribed\")\n",
    "plt.plot(t, A, label= \"Addicted\")\n",
    "plt.plot(t, R, label= \"Recovering\")\n",
    "plt.plot(t, (mu_star-mu)*A, label=\"Deaths\")\n",
    "plt.title(\"Solution to the Opioid model over time\")\n",
    "plt.xlabel(\"Time (years)\")\n",
    "plt.ylabel(\"Population Size\")\n",
    "plt.legend()"
   ]
  },
  {
   "cell_type": "code",
   "execution_count": null,
   "metadata": {},
   "outputs": [],
   "source": []
  }
 ],
 "metadata": {
  "kernelspec": {
   "display_name": "Python 3",
   "language": "python",
   "name": "python3"
  },
  "language_info": {
   "codemirror_mode": {
    "name": "ipython",
    "version": 3
   },
   "file_extension": ".py",
   "mimetype": "text/x-python",
   "name": "python",
   "nbconvert_exporter": "python",
   "pygments_lexer": "ipython3",
   "version": "3.6.2"
  }
 },
 "nbformat": 4,
 "nbformat_minor": 2
}
