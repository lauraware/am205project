{
 "cells": [
  {
   "cell_type": "markdown",
   "metadata": {},
   "source": [
    "# Undestanding the opioid crisis with a modified epidemic model\n",
    "----"
   ]
  },
  {
   "cell_type": "code",
   "execution_count": 9,
   "metadata": {
    "collapsed": true
   },
   "outputs": [],
   "source": [
    "import numpy as np\n",
    "import pandas as pd\n",
    "import scipy as sp\n",
    "import time\n",
    "pd.set_option('display.max_rows', 999)\n",
    "pd.set_option('display.width', 500)\n",
    "pd.set_option('display.notebook_repr_html', True)\n",
    "import matplotlib\n",
    "import matplotlib.pyplot as plt\n",
    "import seaborn as sns\n",
    "%matplotlib inline"
   ]
  },
  {
   "cell_type": "markdown",
   "metadata": {},
   "source": [
    "### The system of equations"
   ]
  },
  {
   "cell_type": "code",
   "execution_count": 535,
   "metadata": {
    "collapsed": false
   },
   "outputs": [],
   "source": [
    "def opioid(state, t, alpha, epsilon, beta, xi, gamma, zeta, delta, nu, sigma, mu, mu_star):\n",
    "    S, P, A, R = state\n",
    "    S_prime = -alpha*S - beta*(1-xi)*S*A - beta*xi*S*P + epsilon*P + delta*R + mu*(P+R) + mu_star*A\n",
    "    P_prime = alpha*S - (epsilon + gamma + mu)*P\n",
    "    A_prime = gamma*P + sigma*R + beta*(1-xi)*S*A + beta*xi*S*P + nu*R*A - (zeta + mu_star)*A\n",
    "    R_prime = zeta*A - nu*R*A - (delta + sigma + mu)*R\n",
    "    #P_prime = -(A_prime + R_prime + S_prime)\n",
    "    return [S_prime, P_prime, A_prime, R_prime]"
   ]
  },
  {
   "cell_type": "markdown",
   "metadata": {},
   "source": [
    "### Our parameters"
   ]
  },
  {
   "cell_type": "code",
   "execution_count": 567,
   "metadata": {
    "collapsed": false
   },
   "outputs": [
    {
     "name": "stdout",
     "output_type": "stream",
     "text": [
      "1.0\n"
     ]
    },
    {
     "data": {
      "text/plain": [
       "0.9999999999999999"
      ]
     },
     "execution_count": 567,
     "metadata": {},
     "output_type": "execute_result"
    }
   ],
   "source": [
    "# parameters\n",
    "epsilon = 0.74 # P to S rate\n",
    "xi = 0.505 #  fraction of beta due to P\n",
    "gamma = 0.26 # rate of addiction among prescribed users\n",
    "nu = 0.2 # relapse rate of R due to A pressure\n",
    "sigma = 0.7 # natural relapse rate of R \n",
    "mu = 0.00824 # death rate\n",
    "mu_star = 0.00834 # death rate of addicts\n",
    "\n",
    "delta = 0.1 # R to S rate. 0.1 is default\n",
    "beta = 0.0625 # total addiction rate for S due to illegal access\n",
    "\n",
    "alpha = 0.5 # prescription rate. could be 0-1\n",
    "zeta = 0.5 # rate of A entry into rehab. could be 0-1\n",
    "\n",
    "# Need to enforce sigma + nu + delta = 1 and epsilon + gamma = 1\n",
    "\n",
    "print (epsilon + gamma)\n",
    "sigma + nu + delta"
   ]
  },
  {
   "cell_type": "code",
   "execution_count": 577,
   "metadata": {
    "collapsed": false
   },
   "outputs": [],
   "source": [
    "alphas = np.linspace(0,1,num=101)\n",
    "zetas = np.linspace(0,1,num=101)\n",
    "X, Y = np.meshgrid(alphas, zetas)\n",
    "Z = np.empty(X.shape)"
   ]
  },
  {
   "cell_type": "code",
   "execution_count": 589,
   "metadata": {
    "collapsed": false
   },
   "outputs": [
    {
     "name": "stdout",
     "output_type": "stream",
     "text": [
      "0\n",
      "10\n",
      "20\n",
      "30\n",
      "40\n",
      "50\n",
      "60\n",
      "70\n",
      "80\n",
      "90\n",
      "100\n"
     ]
    }
   ],
   "source": [
    "for i in range(X.shape[0]):\n",
    "    if i%10==0: print i\n",
    "    for j in range(X.shape[0]):\n",
    "        alpha = X[i,j]\n",
    "        zeta = Y[i,j]\n",
    "        numerical_sol = sp.integrate.odeint(opioid, state0, t, args=(alpha, epsilon, beta, xi, gamma, zeta, delta, nu, sigma, mu, mu_star))\n",
    "        Z[i,j] = numerical_sol[-1,1]"
   ]
  },
  {
   "cell_type": "code",
   "execution_count": 590,
   "metadata": {
    "collapsed": false
   },
   "outputs": [
    {
     "data": {
      "text/plain": [
       "<matplotlib.colorbar.Colorbar at 0x129db1310>"
      ]
     },
     "execution_count": 590,
     "metadata": {},
     "output_type": "execute_result"
    },
    {
     "data": {
      "image/png": "[encoded data removed]",
      "text/plain": [
       "<matplotlib.figure.Figure at 0x129c90ed0>"
      ]
     },
     "metadata": {},
     "output_type": "display_data"
    }
   ],
   "source": [
    "plt.contour(X, Y, Z)\n",
    "plt.colorbar()"
   ]
  },
  {
   "cell_type": "markdown",
   "metadata": {},
   "source": [
    "### Parameters that will lead to addiction free rate according to paper"
   ]
  },
  {
   "cell_type": "markdown",
   "metadata": {},
   "source": [
    "### Solve the system"
   ]
  },
  {
   "cell_type": "code",
   "execution_count": 620,
   "metadata": {
    "collapsed": false
   },
   "outputs": [],
   "source": [
    "t = np.linspace(0, 15, 1501)\n",
    "GM = 1.0\n",
    "state0 = [0.87, 0.1, 0.02, 0.01]\n",
    "alpha = 0.2 # prescription rate. could be 0-1\n",
    "zeta = 0.5 # rate of A entry into rehab. could be 0-1\n",
    "numerical_sol = sp.integrate.odeint(opioid, state0, t, args=(alpha, epsilon, beta, xi, gamma, zeta, delta, nu, sigma, mu, mu_star))\n",
    "\n",
    "S = numerical_sol[:,0]\n",
    "P = numerical_sol[:,1]\n",
    "A = numerical_sol[:,2]\n",
    "R = numerical_sol[:,3]"
   ]
  },
  {
   "cell_type": "markdown",
   "metadata": {},
   "source": [
    "### Check that the population is constant"
   ]
  },
  {
   "cell_type": "code",
   "execution_count": 621,
   "metadata": {
    "collapsed": false
   },
   "outputs": [
    {
     "data": {
      "text/plain": [
       "array([ 1.,  1.,  1., ...,  1.,  1.,  1.])"
      ]
     },
     "execution_count": 621,
     "metadata": {},
     "output_type": "execute_result"
    }
   ],
   "source": [
    "S+P+A+R"
   ]
  },
  {
   "cell_type": "markdown",
   "metadata": {},
   "source": [
    "### Plot the percentage of addicts over time"
   ]
  },
  {
   "cell_type": "code",
   "execution_count": 622,
   "metadata": {
    "collapsed": false
   },
   "outputs": [
    {
     "data": {
      "text/plain": [
       "[<matplotlib.lines.Line2D at 0x12abc5dd0>]"
      ]
     },
     "execution_count": 622,
     "metadata": {},
     "output_type": "execute_result"
    },
    {
     "data": {
      "image/png": "[encoded data removed]",
      "text/plain": [
       "<matplotlib.figure.Figure at 0x12abd2310>"
      ]
     },
     "metadata": {},
     "output_type": "display_data"
    }
   ],
   "source": [
    "plt.plot(t, A)\n",
    "plt.plot(t, P)"
   ]
  },
  {
   "cell_type": "markdown",
   "metadata": {},
   "source": [
    "### Plot the estimated number of deaths due to drug overdose over time (does not account for age, gender, etc. so likely is an underestimate)"
   ]
  },
  {
   "cell_type": "code",
   "execution_count": 556,
   "metadata": {
    "collapsed": false
   },
   "outputs": [
    {
     "data": {
      "text/plain": [
       "[<matplotlib.lines.Line2D at 0x12935f890>]"
      ]
     },
     "execution_count": 556,
     "metadata": {},
     "output_type": "execute_result"
    },
    {
     "data": {
      "image/png": "[encoded data removed]",
      "text/plain": [
       "<matplotlib.figure.Figure at 0x129258e50>"
      ]
     },
     "metadata": {},
     "output_type": "display_data"
    }
   ],
   "source": [
    "plt.plot(t, 320000000*(mu_star-mu)*A)"
   ]
  },
  {
   "cell_type": "markdown",
   "metadata": {},
   "source": [
    "### Import data"
   ]
  },
  {
   "cell_type": "code",
   "execution_count": 390,
   "metadata": {
    "collapsed": false
   },
   "outputs": [],
   "source": [
    "data = pd.read_csv('NCHS_-_Drug_Poisoning_Mortality_by_State__United_States (1).csv')\n",
    "data.columns = [u'Year', u'Sex', u'Age', u'Race', u'State', \n",
    "                u'Deaths', u'Population', u'Crude Death Rate', \n",
    "                u'Standard Error for Crude Rate', u'Low Confidence Limit for Crude Rate', \n",
    "                u'Upper Confidence Limit for Crude Rate', u'Age-adjusted Rate', \n",
    "                u'Standard Error Age-adjusted Rate', \n",
    "                u'Lower Confidence Limit for Age-adjusted rate', \n",
    "                u'Upper Confidence Limit for Age-adjusted Rate', \n",
    "                u'State Crude Rate in Range', u'US Crude Rate', \n",
    "                u'US Age-adjusted Rate']"
   ]
  },
  {
   "cell_type": "code",
   "execution_count": 391,
   "metadata": {
    "collapsed": false
   },
   "outputs": [],
   "source": [
    "data = data.query('Age== \"All Ages\" & Sex==\"Both Sexes\" & Race==\"All Races-All Origins\" & State!=\"United States\"')"
   ]
  },
  {
   "cell_type": "code",
   "execution_count": 392,
   "metadata": {
    "collapsed": false
   },
   "outputs": [],
   "source": [
    "data['Deaths'] = data['Deaths'].apply(lambda x: x.replace(',',''))\n",
    "data['Deaths'] = pd.to_numeric(data['Deaths'], errors='coerce')\n",
    "data['Population'] = data['Population'].apply(lambda x: x.replace(',',''))\n",
    "data['Population'] = pd.to_numeric(data['Population'], errors='coerce')\n",
    "data['Age-adjusted Rate'] = data['Age-adjusted Rate']*data['Population']/100000\n",
    "result = data.groupby(['Year'])['Deaths'].sum()\n",
    "result = result.reset_index()"
   ]
  },
  {
   "cell_type": "code",
   "execution_count": 394,
   "metadata": {
    "collapsed": false
   },
   "outputs": [
    {
     "data": {
      "text/plain": [
       "(51,)"
      ]
     },
     "execution_count": 394,
     "metadata": {},
     "output_type": "execute_result"
    }
   ],
   "source": [
    "data['State'].unique().shape"
   ]
  },
  {
   "cell_type": "code",
   "execution_count": 395,
   "metadata": {
    "collapsed": false
   },
   "outputs": [
    {
     "data": {
      "text/plain": [
       "[<matplotlib.lines.Line2D at 0x11d1eedd0>]"
      ]
     },
     "execution_count": 395,
     "metadata": {},
     "output_type": "execute_result"
    },
    {
     "data": {
      "image/png": "[encoded data removed]",
      "text/plain": [
       "<matplotlib.figure.Figure at 0x11d1eec10>"
      ]
     },
     "metadata": {},
     "output_type": "display_data"
    }
   ],
   "source": [
    "plt.plot(result['Year'],result['Deaths'])"
   ]
  },
  {
   "cell_type": "markdown",
   "metadata": {},
   "source": [
    "### County level exploration"
   ]
  },
  {
   "cell_type": "code",
   "execution_count": 315,
   "metadata": {
    "collapsed": false
   },
   "outputs": [],
   "source": [
    "data = pd.read_csv('NCHS_-_Drug_Poisoning_Mortality_by_County__United_States (1).csv')\n",
    "split = data['Estimated Age-adjusted Death Rate, 16 Categories (in ranges)'].apply(lambda x: x.split('-'))\n",
    "split['lower'] = split.apply(lambda x: x[0])\n",
    "def getUpper(x):\n",
    "    try:\n",
    "        return x[1]\n",
    "    except: return x[0]\n",
    "split['upper'] = split.apply(getUpper)"
   ]
  },
  {
   "cell_type": "code",
   "execution_count": 316,
   "metadata": {
    "collapsed": false
   },
   "outputs": [],
   "source": [
    "data['lower'] = pd.to_numeric(split['lower'], errors='coerce')\n",
    "data['lower'] = data['lower']*data['Population']/100000\n",
    "data['upper'] = pd.to_numeric(split['upper'], errors='coerce')\n",
    "data['upper'] = data['upper']*data['Population']/100000\n",
    "result = data.groupby(['Year'])['upper'].sum()\n",
    "result = result.reset_index()"
   ]
  },
  {
   "cell_type": "code",
   "execution_count": 320,
   "metadata": {
    "collapsed": false
   },
   "outputs": [
    {
     "data": {
      "text/plain": [
       "[<matplotlib.lines.Line2D at 0x11ad5ce90>]"
      ]
     },
     "execution_count": 320,
     "metadata": {},
     "output_type": "execute_result"
    },
    {
     "data": {
      "image/png": "[encoded data removed]",
      "text/plain": [
       "<matplotlib.figure.Figure at 0x11ad5cd10>"
      ]
     },
     "metadata": {},
     "output_type": "display_data"
    }
   ],
   "source": [
    "plt.plot(result['Year'],result['upper'])"
   ]
  },
  {
   "cell_type": "code",
   "execution_count": null,
   "metadata": {
    "collapsed": true
   },
   "outputs": [],
   "source": []
  }
 ],
 "metadata": {
  "kernelspec": {
   "display_name": "Python 2",
   "language": "python",
   "name": "python2"
  },
  "language_info": {
   "codemirror_mode": {
    "name": "ipython",
    "version": 2
   },
   "file_extension": ".py",
   "mimetype": "text/x-python",
   "name": "python",
   "nbconvert_exporter": "python",
   "pygments_lexer": "ipython2",
   "version": "2.7.13"
  }
 },
 "nbformat": 4,
 "nbformat_minor": 2
}
