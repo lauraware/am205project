{
 "cells": [
  {
   "cell_type": "markdown",
   "metadata": {},
   "source": [
    "# Solution to the system\n",
    "----"
   ]
  },
  {
   "cell_type": "markdown",
   "metadata": {},
   "source": [
    "### Imports"
   ]
  },
  {
   "cell_type": "code",
   "execution_count": 1,
   "metadata": {
    "collapsed": false
   },
   "outputs": [],
   "source": [
    "import numpy as np\n",
    "import pandas as pd\n",
    "import scipy as sp\n",
    "import time\n",
    "pd.set_option('display.max_rows', 999)\n",
    "pd.set_option('display.width', 500)\n",
    "pd.set_option('display.notebook_repr_html', True)\n",
    "import matplotlib\n",
    "import matplotlib.pyplot as plt\n",
    "import seaborn as sns\n",
    "from SALib.sample import saltelli\n",
    "from SALib.analyze import sobol\n",
    "from SALib.test_functions import Ishigami\n",
    "%matplotlib inline"
   ]
  },
  {
   "cell_type": "markdown",
   "metadata": {},
   "source": [
    "### The system of equations"
   ]
  },
  {
   "cell_type": "code",
   "execution_count": 2,
   "metadata": {
    "collapsed": false
   },
   "outputs": [],
   "source": [
    "def opioid(state, t, alpha, epsilon, beta, xi, gamma, zeta, delta, nu, sigma, mu, mu_star):\n",
    "    S, P, A, R = state\n",
    "    S_prime = -alpha*S - beta*(1-xi)*S*A - beta*xi*S*P + epsilon*P + delta*R + mu*(P+R) + mu_star*A\n",
    "    P_prime = alpha*S - (epsilon + gamma + mu)*P\n",
    "    A_prime = gamma*P + sigma*R + beta*(1-xi)*S*A + beta*xi*S*P + nu*R*A - (zeta + mu_star)*A\n",
    "    R_prime = zeta*A - nu*R*A - (delta + sigma + mu)*R\n",
    "    return [S_prime, P_prime, A_prime, R_prime]"
   ]
  },
  {
   "cell_type": "markdown",
   "metadata": {},
   "source": [
    "### Our modified version"
   ]
  },
  {
   "cell_type": "code",
   "execution_count": 3,
   "metadata": {
    "collapsed": true
   },
   "outputs": [],
   "source": [
    "def opioid(state, t, alpha, beta_1, beta_2, gamma, zeta, delta, sigma, mu, mu_star):\n",
    "    \n",
    "    '''epsilon was defined to be the prescribed to susceptible rate, but has the\n",
    "    constraint that it is equal to 1 - gamma.\n",
    "    \n",
    "    delta is defined to be the rate of recovery, and is assumed to be 1 - sigma - nu*A\n",
    "    '''\n",
    "    S, P, A, R = state\n",
    "    nu = (1 - sigma - delta)/A\n",
    "    S_prime = -alpha*S - beta_1*S*A - beta_2*S*P + (1-gamma)*P + delta*R + mu*(P+R) + mu_star*A\n",
    "    P_prime = alpha*S - (1 + mu)*P\n",
    "    A_prime = gamma*P + sigma*R + beta_1*S*A + beta_2*S*P + nu*R*A - (zeta + mu_star)*A\n",
    "    R_prime = zeta*A - nu*R*A - (delta + sigma + mu)*R\n",
    "    return [S_prime, P_prime, A_prime, R_prime]"
   ]
  },
  {
   "cell_type": "markdown",
   "metadata": {},
   "source": [
    "### Our best guesses for parameters"
   ]
  },
  {
   "cell_type": "code",
   "execution_count": 32,
   "metadata": {
    "collapsed": false
   },
   "outputs": [],
   "source": [
    "# parameters\n",
    "epsilon = 0.74 # Prescribed to Susceptible rate\n",
    "gamma = 0.26 # rate of addiction among prescribed users\n",
    "gamma = 0.08\n",
    "sigma = 0.7 # natural relapse rate of R \n",
    "mu = 0.00824 # death rate\n",
    "mu_star = 0.00834 # death rate of addicts\n",
    "mu_star = 0.023 #0.0235275 what I think it should be\n",
    "delta = 0.6 # R to S rate. 0.1 is default\n",
    "beta_1 = 0.0625 # total addiction rate for Susceptible due to illegal access\n",
    "beta_2 = 0.0625 # total addiction rate for Susceptible due to illegal access\n",
    "alpha = 0.3 # prescription rate. could be 0-1\n",
    "zeta = 0.7 # rate of A entry into rehab. could be 0-1"
   ]
  },
  {
   "cell_type": "code",
   "execution_count": 38,
   "metadata": {
    "collapsed": false
   },
   "outputs": [
    {
     "data": {
      "image/png": "[encoded data removed]",
      "text/plain": [
       "<matplotlib.figure.Figure at 0x118cb37d0>"
      ]
     },
     "metadata": {},
     "output_type": "display_data"
    }
   ],
   "source": [
    "# times to solve at\n",
    "t = np.linspace(0, 30, 300)\n",
    "# initial state\n",
    "state0 = [0.87, 0.1, 0.02, 0.01]\n",
    "numerical_sol, output = sp.integrate.odeint(opioid, state0, t, full_output=1,args=(alpha, beta_1, beta_2, gamma, zeta, nu, sigma, mu, mu_star))\n",
    "S = numerical_sol[:,0]\n",
    "P = numerical_sol[:,1]\n",
    "A = numerical_sol[:,2]\n",
    "R = numerical_sol[:,3]\n",
    "\n",
    "plt.plot(t, S, label=\"Susceptible\")\n",
    "plt.plot(t, P, label= \"Prescribed\")\n",
    "plt.plot(t, A, label= \"Addicted\")\n",
    "plt.plot(t, R, label= \"Recovering\")\n",
    "plt.title(\"Solution to the Opioid model over time\")\n",
    "plt.xlabel(\"Time (years)\")\n",
    "plt.ylabel(\"Population Size\")\n",
    "plt.legend()\n",
    "plt.savefig('opioid_solution.png')"
   ]
  },
  {
   "cell_type": "code",
   "execution_count": 36,
   "metadata": {
    "collapsed": false
   },
   "outputs": [
    {
     "data": {
      "text/plain": [
       "{'hu': array([ 0.03795706,  0.03795706,  0.1036712 ,  0.1036712 ,  0.07776801,\n",
       "         0.07776801,  0.07776801,  0.07776801,  0.07776801,  0.11290232,\n",
       "         0.11290232,  0.11290232,  0.11290232,  0.11290232,  0.11290232,\n",
       "         0.11290232,  0.11290232,  0.17117179,  0.17117179,  0.17117179,\n",
       "         0.17117179,  0.17117179,  0.17117179,  0.17117179,  0.17117179,\n",
       "         0.17117179,  0.17117179,  0.17117179,  0.17117179,  0.19458198,\n",
       "         0.19458198,  0.19458198,  0.19458198,  0.19458198,  0.19458198,\n",
       "         0.19458198,  0.19458198,  0.19458198,  0.19458198,  0.19458198,\n",
       "         0.19458198,  0.19458198,  0.19556462,  0.19556462,  0.19556462,\n",
       "         0.19556462,  0.19556462,  0.19556462,  0.19556462,  0.19556462,\n",
       "         0.19556462,  0.19556462,  0.19556462,  0.19556462,  0.19556462,\n",
       "         0.19556462,  0.25220845,  0.25220845,  0.25220845,  0.25220845,\n",
       "         0.25220845,  0.25220845,  0.25220845,  0.25220845,  0.25220845,\n",
       "         0.25220845,  0.25220845,  0.25220845,  0.25220845,  0.25220845,\n",
       "         0.25220845,  0.29000476,  0.29000476,  0.29000476,  0.29000476,\n",
       "         0.29000476,  0.29000476,  0.29000476,  0.29000476,  0.29000476,\n",
       "         0.29000476,  0.29000476,  0.29000476,  0.29000476,  0.29000476,\n",
       "         0.29000476,  0.34163581,  0.34163581,  0.34163581,  0.34163581,\n",
       "         0.34163581,  0.34163581,  0.34163581,  0.34163581,  0.34163581,\n",
       "         0.34163581,  0.34163581,  0.34163581,  0.34163581,  0.34163581,\n",
       "         0.34163581,  0.34163581,  0.34163581,  0.34163581,  0.34163581,\n",
       "         0.34163581,  0.34163581,  0.34163581,  0.34163581,  0.34163581,\n",
       "         0.34163581,  0.34163581,  0.34163581,  0.49648764,  0.49648764,\n",
       "         0.49648764,  0.49648764,  0.49648764,  0.49648764,  0.49648764,\n",
       "         0.49648764,  0.49648764,  0.49648764,  0.49648764,  0.49648764,\n",
       "         0.49648764,  0.49648764,  0.49648764,  0.49648764,  0.49648764,\n",
       "         0.49648764,  0.49648764,  0.49648764,  0.49648764,  0.49648764,\n",
       "         0.49648764,  0.49648764,  0.49648764,  0.90071248,  0.90071248,\n",
       "         0.90071248,  0.90071248,  0.90071248,  0.90071248,  0.90071248,\n",
       "         0.90071248,  0.90071248,  0.90071248,  0.90071248,  0.90071248,\n",
       "         0.90071248,  0.90071248,  0.90071248,  0.90071248,  0.90071248,\n",
       "         0.90071248,  0.90071248,  0.90071248,  0.90071248,  0.90071248,\n",
       "         0.90071248,  0.90071248,  0.90071248,  0.90071248,  0.90071248,\n",
       "         0.90071248,  0.90071248,  0.90071248,  0.90071248,  0.90071248,\n",
       "         0.90071248,  0.90071248,  0.90071248,  0.90071248,  0.90071248,\n",
       "         0.90071248,  0.90071248,  0.90071248,  0.90071248,  0.90071248,\n",
       "         0.90071248,  0.90071248,  0.90071248,  0.90071248,  0.90071248,\n",
       "         0.90071248,  0.90071248,  0.90071248,  0.90071248,  0.90071248,\n",
       "         0.90071248,  0.3567353 ,  0.3567353 ,  0.3567353 ,  0.3567353 ,\n",
       "         0.3567353 ,  0.3567353 ,  0.3567353 ,  0.3567353 ,  0.3567353 ,\n",
       "         0.3567353 ,  0.3567353 ,  0.3567353 ,  0.3567353 ,  0.3567353 ,\n",
       "         0.3567353 ,  0.3567353 ,  0.3567353 ,  0.3567353 ,  0.40384507,\n",
       "         0.40384507,  0.40384507,  0.40384507,  0.40384507,  0.40384507,\n",
       "         0.40384507,  0.40384507,  0.40384507,  0.40384507,  0.40384507,\n",
       "         0.40384507,  0.40384507,  0.40384507,  0.40384507,  0.40384507,\n",
       "         0.66505214,  0.66505214,  0.66505214,  0.66505214,  0.66505214,\n",
       "         0.66505214,  0.66505214,  0.66505214,  0.66505214,  0.66505214,\n",
       "         0.66505214,  0.66505214,  0.66505214,  0.66505214,  0.66505214,\n",
       "         0.66505214,  0.66505214,  0.66505214,  0.66505214,  0.66505214,\n",
       "         0.66505214,  0.66505214,  0.66505214,  0.66505214,  0.66505214,\n",
       "         0.66505214,  0.66505214,  0.66505214,  0.66505214,  0.66505214,\n",
       "         0.66505214,  0.66505214,  0.66505214,  1.46618161,  1.46618161,\n",
       "         1.46618161,  1.46618161,  1.46618161,  1.46618161,  1.46618161,\n",
       "         1.46618161,  1.46618161,  1.46618161,  1.46618161,  1.46618161,\n",
       "         1.46618161,  1.46618161,  1.46618161,  0.3665454 ,  0.3665454 ,\n",
       "         0.3665454 ,  0.3665454 ,  0.3665454 ,  0.3665454 ,  0.3665454 ,\n",
       "         0.3665454 ,  0.3665454 ,  0.3665454 ,  0.3665454 ,  0.3665454 ,\n",
       "         0.3665454 ,  0.3665454 ,  0.3665454 ,  0.3665454 ,  0.3665454 ,\n",
       "         0.3665454 ,  0.3665454 ,  0.3665454 ,  0.3665454 ,  0.3665454 ,\n",
       "         0.27437087,  0.27437087,  0.27437087,  0.27437087]),\n",
       " 'imxer': -1,\n",
       " 'leniw': 24,\n",
       " 'lenrw': 84,\n",
       " 'message': 'Integration successful.',\n",
       " 'mused': array([1, 1, 1, 1, 1, 1, 1, 1, 1, 1, 1, 1, 1, 1, 1, 1, 1, 1, 1, 1, 1, 1, 1,\n",
       "        1, 1, 1, 1, 1, 1, 1, 1, 1, 1, 1, 1, 1, 1, 1, 1, 1, 1, 1, 1, 1, 1, 1,\n",
       "        1, 1, 1, 1, 1, 1, 1, 1, 1, 1, 1, 1, 1, 1, 1, 1, 1, 1, 1, 1, 1, 1, 1,\n",
       "        1, 1, 1, 1, 1, 1, 1, 1, 1, 1, 1, 1, 1, 1, 1, 1, 1, 1, 1, 1, 1, 1, 1,\n",
       "        1, 1, 1, 1, 1, 1, 1, 1, 1, 1, 1, 1, 1, 1, 1, 1, 1, 1, 1, 1, 1, 1, 1,\n",
       "        1, 1, 1, 1, 1, 1, 1, 1, 1, 1, 1, 1, 1, 1, 1, 1, 1, 1, 1, 1, 1, 1, 1,\n",
       "        1, 1, 1, 1, 1, 1, 1, 1, 1, 1, 1, 1, 1, 1, 1, 1, 1, 1, 1, 1, 1, 1, 1,\n",
       "        1, 1, 1, 1, 1, 1, 1, 1, 1, 1, 1, 1, 1, 1, 1, 1, 1, 1, 1, 1, 1, 1, 1,\n",
       "        1, 1, 1, 1, 1, 1, 1, 1, 1, 1, 1, 1, 1, 1, 1, 1, 1, 1, 1, 1, 1, 1, 1,\n",
       "        1, 1, 1, 1, 1, 1, 1, 1, 1, 1, 1, 1, 1, 1, 1, 1, 1, 1, 1, 1, 1, 1, 1,\n",
       "        1, 1, 1, 1, 1, 1, 1, 1, 1, 1, 1, 1, 1, 1, 1, 1, 1, 1, 1, 1, 1, 1, 1,\n",
       "        1, 1, 1, 1, 1, 1, 1, 1, 1, 1, 1, 1, 1, 1, 1, 1, 1, 1, 1, 1, 1, 1, 1,\n",
       "        1, 1, 1, 1, 1, 1, 1, 1, 1, 1, 1, 1, 1, 1, 1, 1, 1, 1, 1, 1, 1, 1, 1], dtype=int32),\n",
       " 'nfe': array([ 23,  27,  33,  35,  39,  41,  43,  45,  49,  51,  53,  55,  57,\n",
       "         57,  59,  61,  63,  65,  65,  67,  69,  69,  71,  71,  73,  75,\n",
       "         75,  77,  77,  79,  79,  81,  81,  83,  83,  85,  85,  87,  87,\n",
       "         89,  89,  91,  93,  93,  95,  95,  97,  97,  99,  99, 101, 101,\n",
       "        103, 103, 105, 105, 107, 107, 107, 109, 109, 111, 111, 111, 113,\n",
       "        113, 115, 115, 115, 117, 117, 119, 119, 119, 121, 121, 121, 123,\n",
       "        123, 123, 125, 125, 125, 127, 127, 127, 129, 129, 129, 131, 131,\n",
       "        131, 133, 133, 133, 133, 135, 135, 135, 137, 137, 137, 137, 139,\n",
       "        139, 139, 141, 141, 141, 143, 143, 143, 143, 145, 145, 145, 145,\n",
       "        145, 147, 147, 147, 147, 147, 149, 149, 149, 149, 149, 151, 151,\n",
       "        151, 151, 151, 153, 153, 153, 153, 153, 155, 155, 155, 155, 155,\n",
       "        155, 155, 155, 155, 157, 157, 157, 157, 157, 157, 157, 157, 157,\n",
       "        159, 159, 159, 159, 159, 159, 159, 159, 159, 161, 161, 161, 161,\n",
       "        161, 161, 161, 161, 161, 163, 163, 163, 163, 163, 163, 163, 163,\n",
       "        165, 165, 165, 165, 165, 165, 165, 165, 165, 167, 167, 167, 167,\n",
       "        169, 169, 169, 169, 171, 171, 171, 173, 173, 173, 173, 175, 175,\n",
       "        175, 177, 177, 177, 177, 179, 179, 179, 179, 181, 181, 181, 181,\n",
       "        183, 183, 183, 183, 185, 185, 185, 185, 185, 185, 185, 187, 187,\n",
       "        187, 187, 187, 187, 187, 189, 189, 189, 189, 189, 189, 191, 191,\n",
       "        191, 191, 191, 191, 191, 193, 193, 193, 193, 193, 193, 195, 195,\n",
       "        195, 195, 195, 195, 195, 195, 195, 195, 195, 195, 195, 195, 195,\n",
       "        200, 200, 200, 200, 202, 202, 202, 204, 204, 204, 204, 206, 206,\n",
       "        206, 206, 208, 208, 208, 210, 210, 210, 210, 212, 212, 212, 214], dtype=int32),\n",
       " 'nje': array([0, 0, 0, 0, 0, 0, 0, 0, 0, 0, 0, 0, 0, 0, 0, 0, 0, 0, 0, 0, 0, 0, 0,\n",
       "        0, 0, 0, 0, 0, 0, 0, 0, 0, 0, 0, 0, 0, 0, 0, 0, 0, 0, 0, 0, 0, 0, 0,\n",
       "        0, 0, 0, 0, 0, 0, 0, 0, 0, 0, 0, 0, 0, 0, 0, 0, 0, 0, 0, 0, 0, 0, 0,\n",
       "        0, 0, 0, 0, 0, 0, 0, 0, 0, 0, 0, 0, 0, 0, 0, 0, 0, 0, 0, 0, 0, 0, 0,\n",
       "        0, 0, 0, 0, 0, 0, 0, 0, 0, 0, 0, 0, 0, 0, 0, 0, 0, 0, 0, 0, 0, 0, 0,\n",
       "        0, 0, 0, 0, 0, 0, 0, 0, 0, 0, 0, 0, 0, 0, 0, 0, 0, 0, 0, 0, 0, 0, 0,\n",
       "        0, 0, 0, 0, 0, 0, 0, 0, 0, 0, 0, 0, 0, 0, 0, 0, 0, 0, 0, 0, 0, 0, 0,\n",
       "        0, 0, 0, 0, 0, 0, 0, 0, 0, 0, 0, 0, 0, 0, 0, 0, 0, 0, 0, 0, 0, 0, 0,\n",
       "        0, 0, 0, 0, 0, 0, 0, 0, 0, 0, 0, 0, 0, 0, 0, 0, 0, 0, 0, 0, 0, 0, 0,\n",
       "        0, 0, 0, 0, 0, 0, 0, 0, 0, 0, 0, 0, 0, 0, 0, 0, 0, 0, 0, 0, 0, 0, 0,\n",
       "        0, 0, 0, 0, 0, 0, 0, 0, 0, 0, 0, 0, 0, 0, 0, 0, 0, 0, 0, 0, 0, 0, 0,\n",
       "        0, 0, 0, 0, 0, 0, 0, 0, 0, 0, 0, 0, 0, 0, 0, 0, 0, 0, 0, 0, 0, 0, 0,\n",
       "        0, 0, 0, 0, 0, 0, 0, 0, 0, 0, 0, 0, 0, 0, 0, 0, 0, 0, 0, 0, 0, 0, 0], dtype=int32),\n",
       " 'nqu': array([4, 4, 5, 5, 5, 5, 5, 5, 5, 6, 6, 6, 6, 6, 6, 6, 6, 6, 6, 6, 6, 6, 6,\n",
       "        6, 6, 6, 6, 6, 6, 6, 6, 6, 6, 6, 6, 6, 6, 6, 6, 6, 6, 6, 6, 6, 6, 6,\n",
       "        6, 6, 6, 6, 6, 6, 6, 6, 6, 6, 5, 5, 5, 5, 5, 5, 5, 5, 5, 5, 5, 5, 5,\n",
       "        5, 5, 4, 4, 4, 4, 4, 4, 4, 4, 4, 4, 4, 4, 4, 4, 4, 4, 4, 4, 4, 4, 4,\n",
       "        4, 4, 4, 4, 4, 4, 4, 4, 4, 4, 4, 4, 4, 4, 4, 4, 4, 4, 4, 4, 4, 4, 4,\n",
       "        4, 4, 4, 4, 4, 4, 4, 4, 4, 4, 4, 4, 4, 4, 4, 4, 4, 4, 4, 4, 4, 4, 4,\n",
       "        5, 5, 5, 5, 5, 5, 5, 5, 5, 5, 5, 5, 5, 5, 5, 5, 5, 5, 5, 5, 5, 5, 5,\n",
       "        5, 5, 5, 5, 5, 5, 5, 5, 5, 5, 5, 5, 5, 5, 5, 5, 5, 5, 5, 5, 5, 5, 5,\n",
       "        5, 5, 5, 5, 5, 5, 5, 4, 4, 4, 4, 4, 4, 4, 4, 4, 4, 4, 4, 4, 4, 4, 4,\n",
       "        4, 4, 3, 3, 3, 3, 3, 3, 3, 3, 3, 3, 3, 3, 3, 3, 3, 3, 4, 4, 4, 4, 4,\n",
       "        4, 4, 4, 4, 4, 4, 4, 4, 4, 4, 4, 4, 4, 4, 4, 4, 4, 4, 4, 4, 4, 4, 4,\n",
       "        4, 4, 4, 4, 4, 5, 5, 5, 5, 5, 5, 5, 5, 5, 5, 5, 5, 5, 5, 5, 5, 5, 5,\n",
       "        5, 5, 5, 5, 5, 5, 5, 5, 5, 5, 5, 5, 5, 5, 5, 5, 5, 5, 5, 4, 4, 4, 4], dtype=int32),\n",
       " 'nst': array([ 10,  12,  15,  16,  17,  18,  19,  20,  22,  23,  24,  25,  26,\n",
       "         26,  27,  28,  29,  30,  30,  31,  32,  32,  33,  33,  34,  35,\n",
       "         35,  36,  36,  37,  37,  38,  38,  39,  39,  40,  40,  41,  41,\n",
       "         42,  42,  43,  44,  44,  45,  45,  46,  46,  47,  47,  48,  48,\n",
       "         49,  49,  50,  50,  51,  51,  51,  52,  52,  53,  53,  53,  54,\n",
       "         54,  55,  55,  55,  56,  56,  57,  57,  57,  58,  58,  58,  59,\n",
       "         59,  59,  60,  60,  60,  61,  61,  61,  62,  62,  62,  63,  63,\n",
       "         63,  64,  64,  64,  64,  65,  65,  65,  66,  66,  66,  66,  67,\n",
       "         67,  67,  68,  68,  68,  69,  69,  69,  69,  70,  70,  70,  70,\n",
       "         70,  71,  71,  71,  71,  71,  72,  72,  72,  72,  72,  73,  73,\n",
       "         73,  73,  73,  74,  74,  74,  74,  74,  75,  75,  75,  75,  75,\n",
       "         75,  75,  75,  75,  76,  76,  76,  76,  76,  76,  76,  76,  76,\n",
       "         77,  77,  77,  77,  77,  77,  77,  77,  77,  78,  78,  78,  78,\n",
       "         78,  78,  78,  78,  78,  79,  79,  79,  79,  79,  79,  79,  79,\n",
       "         80,  80,  80,  80,  80,  80,  80,  80,  80,  81,  81,  81,  81,\n",
       "         82,  82,  82,  82,  83,  83,  83,  84,  84,  84,  84,  85,  85,\n",
       "         85,  86,  86,  86,  86,  87,  87,  87,  87,  88,  88,  88,  88,\n",
       "         89,  89,  89,  89,  90,  90,  90,  90,  90,  90,  90,  91,  91,\n",
       "         91,  91,  91,  91,  91,  92,  92,  92,  92,  92,  92,  93,  93,\n",
       "         93,  93,  93,  93,  93,  94,  94,  94,  94,  94,  94,  95,  95,\n",
       "         95,  95,  95,  95,  95,  95,  95,  95,  95,  95,  95,  95,  95,\n",
       "         96,  96,  96,  96,  97,  97,  97,  98,  98,  98,  98,  99,  99,\n",
       "         99,  99, 100, 100, 100, 101, 101, 101, 101, 102, 102, 102, 103], dtype=int32),\n",
       " 'tcur': array([  0.13309374,   0.20900786,   0.38859318,   0.49226439,\n",
       "          0.57003239,   0.6478004 ,   0.72556841,   0.80333642,\n",
       "          0.95887244,   1.07177475,   1.18467707,   1.29757939,\n",
       "          1.41048171,   1.41048171,   1.52338402,   1.63628634,\n",
       "          1.74918866,   1.92036045,   1.92036045,   2.09153223,\n",
       "          2.26270402,   2.26270402,   2.43387581,   2.43387581,\n",
       "          2.6050476 ,   2.77621939,   2.77621939,   2.94739117,\n",
       "          2.94739117,   3.14197315,   3.14197315,   3.33655513,\n",
       "          3.33655513,   3.5311371 ,   3.5311371 ,   3.72571908,\n",
       "          3.72571908,   3.92030105,   3.92030105,   4.11488303,\n",
       "          4.11488303,   4.30946501,   4.50502963,   4.50502963,\n",
       "          4.70059425,   4.70059425,   4.89615887,   4.89615887,\n",
       "          5.0917235 ,   5.0917235 ,   5.28728812,   5.28728812,\n",
       "          5.48285274,   5.48285274,   5.67841737,   5.67841737,\n",
       "          5.93062582,   5.93062582,   5.93062582,   6.18283427,\n",
       "          6.18283427,   6.43504273,   6.43504273,   6.43504273,\n",
       "          6.68725118,   6.68725118,   6.93945964,   6.93945964,\n",
       "          6.93945964,   7.19166809,   7.19166809,   7.48167285,\n",
       "          7.48167285,   7.48167285,   7.7716776 ,   7.7716776 ,\n",
       "          7.7716776 ,   8.06168236,   8.06168236,   8.06168236,\n",
       "          8.35168711,   8.35168711,   8.35168711,   8.64169187,\n",
       "          8.64169187,   8.64169187,   8.98332768,   8.98332768,\n",
       "          8.98332768,   9.32496348,   9.32496348,   9.32496348,\n",
       "          9.66659929,   9.66659929,   9.66659929,   9.66659929,\n",
       "         10.0082351 ,  10.0082351 ,  10.0082351 ,  10.34987091,\n",
       "         10.34987091,  10.34987091,  10.34987091,  10.69150671,\n",
       "         10.69150671,  10.69150671,  11.03314252,  11.03314252,\n",
       "         11.03314252,  11.37477833,  11.37477833,  11.37477833,\n",
       "         11.37477833,  11.87126597,  11.87126597,  11.87126597,\n",
       "         11.87126597,  11.87126597,  12.36775361,  12.36775361,\n",
       "         12.36775361,  12.36775361,  12.36775361,  12.86424125,\n",
       "         12.86424125,  12.86424125,  12.86424125,  12.86424125,\n",
       "         13.36072888,  13.36072888,  13.36072888,  13.36072888,\n",
       "         13.36072888,  13.85721652,  13.85721652,  13.85721652,\n",
       "         13.85721652,  13.85721652,  14.757929  ,  14.757929  ,\n",
       "         14.757929  ,  14.757929  ,  14.757929  ,  14.757929  ,\n",
       "         14.757929  ,  14.757929  ,  14.757929  ,  15.65864148,\n",
       "         15.65864148,  15.65864148,  15.65864148,  15.65864148,\n",
       "         15.65864148,  15.65864148,  15.65864148,  15.65864148,\n",
       "         16.55935395,  16.55935395,  16.55935395,  16.55935395,\n",
       "         16.55935395,  16.55935395,  16.55935395,  16.55935395,\n",
       "         16.55935395,  17.46006643,  17.46006643,  17.46006643,\n",
       "         17.46006643,  17.46006643,  17.46006643,  17.46006643,\n",
       "         17.46006643,  17.46006643,  18.3607789 ,  18.3607789 ,\n",
       "         18.3607789 ,  18.3607789 ,  18.3607789 ,  18.3607789 ,\n",
       "         18.3607789 ,  18.3607789 ,  19.26149138,  19.26149138,\n",
       "         19.26149138,  19.26149138,  19.26149138,  19.26149138,\n",
       "         19.26149138,  19.26149138,  19.26149138,  19.61822668,\n",
       "         19.61822668,  19.61822668,  19.61822668,  19.97496199,\n",
       "         19.97496199,  19.97496199,  19.97496199,  20.33169729,\n",
       "         20.33169729,  20.33169729,  20.6884326 ,  20.6884326 ,\n",
       "         20.6884326 ,  20.6884326 ,  21.0451679 ,  21.0451679 ,\n",
       "         21.0451679 ,  21.44901297,  21.44901297,  21.44901297,\n",
       "         21.44901297,  21.85285804,  21.85285804,  21.85285804,\n",
       "         21.85285804,  22.25670311,  22.25670311,  22.25670311,\n",
       "         22.25670311,  22.66054819,  22.66054819,  22.66054819,\n",
       "         22.66054819,  23.32560032,  23.32560032,  23.32560032,\n",
       "         23.32560032,  23.32560032,  23.32560032,  23.32560032,\n",
       "         23.99065246,  23.99065246,  23.99065246,  23.99065246,\n",
       "         23.99065246,  23.99065246,  23.99065246,  24.6557046 ,\n",
       "         24.6557046 ,  24.6557046 ,  24.6557046 ,  24.6557046 ,\n",
       "         24.6557046 ,  25.32075674,  25.32075674,  25.32075674,\n",
       "         25.32075674,  25.32075674,  25.32075674,  25.32075674,\n",
       "         25.98580888,  25.98580888,  25.98580888,  25.98580888,\n",
       "         25.98580888,  25.98580888,  27.45199049,  27.45199049,\n",
       "         27.45199049,  27.45199049,  27.45199049,  27.45199049,\n",
       "         27.45199049,  27.45199049,  27.45199049,  27.45199049,\n",
       "         27.45199049,  27.45199049,  27.45199049,  27.45199049,\n",
       "         27.45199049,  27.8185359 ,  27.8185359 ,  27.8185359 ,\n",
       "         27.8185359 ,  28.1850813 ,  28.1850813 ,  28.1850813 ,\n",
       "         28.5516267 ,  28.5516267 ,  28.5516267 ,  28.5516267 ,\n",
       "         28.91817211,  28.91817211,  28.91817211,  28.91817211,\n",
       "         29.28471751,  29.28471751,  29.28471751,  29.65126291,\n",
       "         29.65126291,  29.65126291,  29.65126291,  29.92563378,\n",
       "         29.92563378,  29.92563378,  30.20000465]),\n",
       " 'tolsf': array([ 0.,  0.,  0.,  0.,  0.,  0.,  0.,  0.,  0.,  0.,  0.,  0.,  0.,\n",
       "         0.,  0.,  0.,  0.,  0.,  0.,  0.,  0.,  0.,  0.,  0.,  0.,  0.,\n",
       "         0.,  0.,  0.,  0.,  0.,  0.,  0.,  0.,  0.,  0.,  0.,  0.,  0.,\n",
       "         0.,  0.,  0.,  0.,  0.,  0.,  0.,  0.,  0.,  0.,  0.,  0.,  0.,\n",
       "         0.,  0.,  0.,  0.,  0.,  0.,  0.,  0.,  0.,  0.,  0.,  0.,  0.,\n",
       "         0.,  0.,  0.,  0.,  0.,  0.,  0.,  0.,  0.,  0.,  0.,  0.,  0.,\n",
       "         0.,  0.,  0.,  0.,  0.,  0.,  0.,  0.,  0.,  0.,  0.,  0.,  0.,\n",
       "         0.,  0.,  0.,  0.,  0.,  0.,  0.,  0.,  0.,  0.,  0.,  0.,  0.,\n",
       "         0.,  0.,  0.,  0.,  0.,  0.,  0.,  0.,  0.,  0.,  0.,  0.,  0.,\n",
       "         0.,  0.,  0.,  0.,  0.,  0.,  0.,  0.,  0.,  0.,  0.,  0.,  0.,\n",
       "         0.,  0.,  0.,  0.,  0.,  0.,  0.,  0.,  0.,  0.,  0.,  0.,  0.,\n",
       "         0.,  0.,  0.,  0.,  0.,  0.,  0.,  0.,  0.,  0.,  0.,  0.,  0.,\n",
       "         0.,  0.,  0.,  0.,  0.,  0.,  0.,  0.,  0.,  0.,  0.,  0.,  0.,\n",
       "         0.,  0.,  0.,  0.,  0.,  0.,  0.,  0.,  0.,  0.,  0.,  0.,  0.,\n",
       "         0.,  0.,  0.,  0.,  0.,  0.,  0.,  0.,  0.,  0.,  0.,  0.,  0.,\n",
       "         0.,  0.,  0.,  0.,  0.,  0.,  0.,  0.,  0.,  0.,  0.,  0.,  0.,\n",
       "         0.,  0.,  0.,  0.,  0.,  0.,  0.,  0.,  0.,  0.,  0.,  0.,  0.,\n",
       "         0.,  0.,  0.,  0.,  0.,  0.,  0.,  0.,  0.,  0.,  0.,  0.,  0.,\n",
       "         0.,  0.,  0.,  0.,  0.,  0.,  0.,  0.,  0.,  0.,  0.,  0.,  0.,\n",
       "         0.,  0.,  0.,  0.,  0.,  0.,  0.,  0.,  0.,  0.,  0.,  0.,  0.,\n",
       "         0.,  0.,  0.,  0.,  0.,  0.,  0.,  0.,  0.,  0.,  0.,  0.,  0.,\n",
       "         0.,  0.,  0.,  0.,  0.,  0.,  0.,  0.,  0.,  0.,  0.,  0.,  0.,\n",
       "         0.,  0.,  0.,  0.,  0.,  0.,  0.,  0.,  0.,  0.,  0.,  0.,  0.]),\n",
       " 'tsw': array([ 0.,  0.,  0.,  0.,  0.,  0.,  0.,  0.,  0.,  0.,  0.,  0.,  0.,\n",
       "         0.,  0.,  0.,  0.,  0.,  0.,  0.,  0.,  0.,  0.,  0.,  0.,  0.,\n",
       "         0.,  0.,  0.,  0.,  0.,  0.,  0.,  0.,  0.,  0.,  0.,  0.,  0.,\n",
       "         0.,  0.,  0.,  0.,  0.,  0.,  0.,  0.,  0.,  0.,  0.,  0.,  0.,\n",
       "         0.,  0.,  0.,  0.,  0.,  0.,  0.,  0.,  0.,  0.,  0.,  0.,  0.,\n",
       "         0.,  0.,  0.,  0.,  0.,  0.,  0.,  0.,  0.,  0.,  0.,  0.,  0.,\n",
       "         0.,  0.,  0.,  0.,  0.,  0.,  0.,  0.,  0.,  0.,  0.,  0.,  0.,\n",
       "         0.,  0.,  0.,  0.,  0.,  0.,  0.,  0.,  0.,  0.,  0.,  0.,  0.,\n",
       "         0.,  0.,  0.,  0.,  0.,  0.,  0.,  0.,  0.,  0.,  0.,  0.,  0.,\n",
       "         0.,  0.,  0.,  0.,  0.,  0.,  0.,  0.,  0.,  0.,  0.,  0.,  0.,\n",
       "         0.,  0.,  0.,  0.,  0.,  0.,  0.,  0.,  0.,  0.,  0.,  0.,  0.,\n",
       "         0.,  0.,  0.,  0.,  0.,  0.,  0.,  0.,  0.,  0.,  0.,  0.,  0.,\n",
       "         0.,  0.,  0.,  0.,  0.,  0.,  0.,  0.,  0.,  0.,  0.,  0.,  0.,\n",
       "         0.,  0.,  0.,  0.,  0.,  0.,  0.,  0.,  0.,  0.,  0.,  0.,  0.,\n",
       "         0.,  0.,  0.,  0.,  0.,  0.,  0.,  0.,  0.,  0.,  0.,  0.,  0.,\n",
       "         0.,  0.,  0.,  0.,  0.,  0.,  0.,  0.,  0.,  0.,  0.,  0.,  0.,\n",
       "         0.,  0.,  0.,  0.,  0.,  0.,  0.,  0.,  0.,  0.,  0.,  0.,  0.,\n",
       "         0.,  0.,  0.,  0.,  0.,  0.,  0.,  0.,  0.,  0.,  0.,  0.,  0.,\n",
       "         0.,  0.,  0.,  0.,  0.,  0.,  0.,  0.,  0.,  0.,  0.,  0.,  0.,\n",
       "         0.,  0.,  0.,  0.,  0.,  0.,  0.,  0.,  0.,  0.,  0.,  0.,  0.,\n",
       "         0.,  0.,  0.,  0.,  0.,  0.,  0.,  0.,  0.,  0.,  0.,  0.,  0.,\n",
       "         0.,  0.,  0.,  0.,  0.,  0.,  0.,  0.,  0.,  0.,  0.,  0.,  0.,\n",
       "         0.,  0.,  0.,  0.,  0.,  0.,  0.,  0.,  0.,  0.,  0.,  0.,  0.])}"
      ]
     },
     "execution_count": 36,
     "metadata": {},
     "output_type": "execute_result"
    }
   ],
   "source": [
    "output"
   ]
  },
  {
   "cell_type": "markdown",
   "metadata": {},
   "source": [
    "### Function to return final addiction states given input parameter values"
   ]
  },
  {
   "cell_type": "markdown",
   "metadata": {},
   "source": [
    "### Perform sensitivity analysis - Sensitivity to parameters"
   ]
  },
  {
   "cell_type": "code",
   "execution_count": 183,
   "metadata": {
    "collapsed": false
   },
   "outputs": [],
   "source": [
    "# Run model (example)\n",
    "Y = getFinalAddiction(param_values)\n",
    "\n",
    "# Perform analysis\n",
    "Si = sobol.analyze(problem, Y, print_to_console=False)\n",
    "# Returns a dictionary with keys 'S1', 'S1_conf', 'ST', and 'ST_conf'\n",
    "# (first and total-order indices with bootstrap confidence intervals)"
   ]
  },
  {
   "cell_type": "code",
   "execution_count": 184,
   "metadata": {
    "collapsed": false
   },
   "outputs": [
    {
     "name": "stderr",
     "output_type": "stream",
     "text": [
      "/Users/lw20302/anaconda/lib/python2.7/site-packages/ipykernel/__main__.py:7: FutureWarning: sort(columns=....) is deprecated, use sort_values(by=.....)\n"
     ]
    },
    {
     "data": {
      "text/html": [
       "<div>\n",
       "<table border=\"1\" class=\"dataframe\">\n",
       "  <thead>\n",
       "    <tr style=\"text-align: right;\">\n",
       "      <th></th>\n",
       "      <th>first-order effect</th>\n",
       "      <th>parameter</th>\n",
       "      <th>total-order effect</th>\n",
       "    </tr>\n",
       "  </thead>\n",
       "  <tbody>\n",
       "    <tr>\n",
       "      <th>4</th>\n",
       "      <td>0.838</td>\n",
       "      <td>zeta</td>\n",
       "      <td>0.854</td>\n",
       "    </tr>\n",
       "    <tr>\n",
       "      <th>1</th>\n",
       "      <td>0.070</td>\n",
       "      <td>beta_1</td>\n",
       "      <td>0.100</td>\n",
       "    </tr>\n",
       "    <tr>\n",
       "      <th>3</th>\n",
       "      <td>0.034</td>\n",
       "      <td>gamma</td>\n",
       "      <td>0.048</td>\n",
       "    </tr>\n",
       "    <tr>\n",
       "      <th>0</th>\n",
       "      <td>0.025</td>\n",
       "      <td>alpha</td>\n",
       "      <td>0.037</td>\n",
       "    </tr>\n",
       "    <tr>\n",
       "      <th>8</th>\n",
       "      <td>0.012</td>\n",
       "      <td>mu_star</td>\n",
       "      <td>0.011</td>\n",
       "    </tr>\n",
       "    <tr>\n",
       "      <th>2</th>\n",
       "      <td>0.002</td>\n",
       "      <td>beta_2</td>\n",
       "      <td>0.005</td>\n",
       "    </tr>\n",
       "    <tr>\n",
       "      <th>5</th>\n",
       "      <td>0.000</td>\n",
       "      <td>delta</td>\n",
       "      <td>0.000</td>\n",
       "    </tr>\n",
       "    <tr>\n",
       "      <th>6</th>\n",
       "      <td>0.000</td>\n",
       "      <td>sigma</td>\n",
       "      <td>0.000</td>\n",
       "    </tr>\n",
       "    <tr>\n",
       "      <th>7</th>\n",
       "      <td>-0.000</td>\n",
       "      <td>mu</td>\n",
       "      <td>0.000</td>\n",
       "    </tr>\n",
       "  </tbody>\n",
       "</table>\n",
       "</div>"
      ],
      "text/plain": [
       "   first-order effect parameter  total-order effect\n",
       "4               0.838      zeta               0.854\n",
       "1               0.070    beta_1               0.100\n",
       "3               0.034     gamma               0.048\n",
       "0               0.025     alpha               0.037\n",
       "8               0.012   mu_star               0.011\n",
       "2               0.002    beta_2               0.005\n",
       "5               0.000     delta               0.000\n",
       "6               0.000     sigma               0.000\n",
       "7              -0.000        mu               0.000"
      ]
     },
     "execution_count": 184,
     "metadata": {},
     "output_type": "execute_result"
    }
   ],
   "source": [
    "results = pd.DataFrame({\n",
    "    \"parameter\": ['alpha', 'beta_1', 'beta_2', 'gamma', 'zeta', 'delta', 'sigma', 'mu', 'mu_star'],\n",
    "    \"first-order effect\": Si['S1'].round(3),\n",
    "    \"total-order effect\": Si['ST'].round(3)\n",
    "})\n",
    "#Si['S1']\n",
    "results.sort(columns=\"first-order effect\", ascending=False)"
   ]
  },
  {
   "cell_type": "code",
   "execution_count": 126,
   "metadata": {
    "collapsed": false
   },
   "outputs": [
    {
     "data": {
      "text/plain": [
       "array([ 0.039,  0.031,  0.002,  0.027,  0.793,  0.   ,  0.   , -0.   ,\n",
       "        0.001])"
      ]
     },
     "execution_count": 126,
     "metadata": {},
     "output_type": "execute_result"
    }
   ],
   "source": [
    "results"
   ]
  },
  {
   "cell_type": "code",
   "execution_count": null,
   "metadata": {
    "collapsed": true
   },
   "outputs": [],
   "source": []
  }
 ],
 "metadata": {
  "kernelspec": {
   "display_name": "Python 2",
   "language": "python",
   "name": "python2"
  },
  "language_info": {
   "codemirror_mode": {
    "name": "ipython",
    "version": 2
   },
   "file_extension": ".py",
   "mimetype": "text/x-python",
   "name": "python",
   "nbconvert_exporter": "python",
   "pygments_lexer": "ipython2",
   "version": "2.7.13"
  }
 },
 "nbformat": 4,
 "nbformat_minor": 2
}
